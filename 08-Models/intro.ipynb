{
 "cells": [
  {
   "cell_type": "markdown",
   "metadata": {},
   "source": [
    "# Introduction\n",
    "\n",
    "Machine learning models are algorithms trained by data to recognize specific patterns, solve problems, or make predictions based on findings. A model's core elements are its algorithm, the data it was trained on, and the data it ingests while in active deployment\n",
    "\n",
    "Models gradually learn on their own and, as a result, can improve their performance as time goes by. ML models are used in numerous industries but have also found popular appeal through consumer-facing generative AI applications"
   ]
  }
 ],
 "metadata": {
  "language_info": {
   "name": "python"
  }
 },
 "nbformat": 4,
 "nbformat_minor": 2
}
