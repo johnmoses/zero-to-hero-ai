{
 "cells": [
  {
   "cell_type": "markdown",
   "metadata": {},
   "source": [
    "## Zero to Hero in AI\n",
    "- [01 Artificial Intelligence](./01_AI/index.ipynb)\n",
    "- [02 Data](./05_Data/index.ipynb)\n",
    "- [03 Feature Engineering](./06_Feature/index.ipynb)\n",
    "- [04 Coding](./03_Coding/index.ipynb)\n",
    "- [05 Algorithms](./04_Algorithms/index.ipynb)\n",
    "- [06 Math for Artificial Intelligence](./02_Math/index.ipynb)\n",
    "- [07 Machine Learning](./07_ML/index.ipynb)\n",
    "- [08 Models](./08-Models/index.ipynb)\n",
    "- [09 Sequential Data](./09-Sequential/index.ipynb)\n",
    "- [10 Deep Learning](./10_DL/index.ipynb)\n",
    "- [11 Optimization](./11_Optimization/index.ipynb)\n",
    "- [12 Natural Language Processing](./12_NLP/index.ipynb)\n",
    "- [13 Generative Adversarial Networks](./13_GAN/index.ipynb)\n",
    "- [14 Computer Vision](./14_CV/index.ipynb)\n",
    "- [15 Speech, Audio and Music](./15_Audio/index.ipynb)\n",
    "- [16 Reinforcement Learning](./16_RL/index.ipynb)\n",
    "- [17 Performance](./17_Performance/index.ipynb)\n",
    "- [18 Big Data](./18_BigData/index.ipynb)\n",
    "- [19 Production](./19_Production/index.ipynb)\n",
    "- [20 User Experience](./20_UX/index.ipynb)\n",
    "- [21 Advanced](./21_Advanced/index.ipynb)"
   ]
  }
 ],
 "metadata": {
  "language_info": {
   "name": "python"
  }
 },
 "nbformat": 4,
 "nbformat_minor": 2
}
