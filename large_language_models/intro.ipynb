{
 "cells": [
  {
   "cell_type": "markdown",
   "metadata": {},
   "source": [
    "# Introducing Large Language Models"
   ]
  },
  {
   "cell_type": "markdown",
   "metadata": {},
   "source": [
    "Import libraries"
   ]
  },
  {
   "cell_type": "code",
   "execution_count": 1,
   "metadata": {},
   "outputs": [],
   "source": [
    "import os\n",
    "import torch\n",
    "import torch.nn as nn\n",
    "import torch.nn.functional as F\n",
    "from dataclasses import dataclass\n",
    "from tqdm.auto import tqdm\n",
    "from pathlib import Path\n",
    "import matplotlib.pyplot as plt\n",
    "from tokenizers import Tokenizer\n",
    "from tokenizers.models import BPE\n",
    "import tokenizers.pre_tokenizers as pre_tokenizers\n",
    "import tokenizers.processors as processors\n",
    "import tokenizers.decoders as decoders\n",
    "from tokenizers.trainers import BpeTrainer"
   ]
  },
  {
   "cell_type": "code",
   "execution_count": 2,
   "metadata": {},
   "outputs": [
    {
     "data": {
      "text/plain": [
       "<torch._C.Generator at 0x109d48fb0>"
      ]
     },
     "execution_count": 2,
     "metadata": {},
     "output_type": "execute_result"
    }
   ],
   "source": [
    "torch.manual_seed(1357)"
   ]
  },
  {
   "cell_type": "markdown",
   "metadata": {},
   "source": [
    "## Introducting Generative Pretrained Transformers (GPT)"
   ]
  },
  {
   "cell_type": "code",
   "execution_count": 3,
   "metadata": {},
   "outputs": [],
   "source": [
    "os.environ['TOKENIZERS_PARALLELISM'] = 'true'  "
   ]
  },
  {
   "cell_type": "markdown",
   "metadata": {},
   "source": [
    "## Data"
   ]
  },
  {
   "cell_type": "code",
   "execution_count": 4,
   "metadata": {},
   "outputs": [],
   "source": [
    "with open('../xdata/input.txt','r',encoding='utf-8') as f:\n",
    "    data = f.read()"
   ]
  },
  {
   "cell_type": "markdown",
   "metadata": {},
   "source": [
    "Show first few lines"
   ]
  },
  {
   "cell_type": "code",
   "execution_count": 5,
   "metadata": {},
   "outputs": [
    {
     "data": {
      "text/plain": [
       "'First Citizen:\\nBefore we proceed any further, hear me speak.\\n\\nAll:\\nSpeak, speak.\\n\\nFirst Citizen:\\nYou'"
      ]
     },
     "execution_count": 5,
     "metadata": {},
     "output_type": "execute_result"
    }
   ],
   "source": [
    "data[:100]"
   ]
  },
  {
   "cell_type": "markdown",
   "metadata": {},
   "source": [
    "BPE Tokenization"
   ]
  },
  {
   "cell_type": "code",
   "execution_count": 6,
   "metadata": {},
   "outputs": [
    {
     "name": "stdout",
     "output_type": "stream",
     "text": [
      "\n",
      "\n",
      "\n"
     ]
    }
   ],
   "source": [
    "tokenizer_path = Path('./')\n",
    "tokenizer_path.mkdir(exist_ok=True)\n",
    "\n",
    "tokenizer = Tokenizer(BPE())\n",
    "\n",
    "tokenizer.pre_tokenizer = pre_tokenizers.ByteLevel(add_prefix_space=False)\n",
    "tokenizer.post_processor = processors.ByteLevel(trim_offsets=False)\n",
    "tokenizer.decoder = decoders.ByteLevel()\n",
    "trainer = BpeTrainer(special_tokens=['<|endoftext|>'], min_frequency=2)\n",
    "\n",
    "tokenizer.train(['../xdata/input.txt'],trainer)\n",
    "tokenizer.save(str(tokenizer_path / 'input.json'))"
   ]
  },
  {
   "cell_type": "markdown",
   "metadata": {},
   "source": [
    "Config"
   ]
  },
  {
   "cell_type": "code",
   "execution_count": 7,
   "metadata": {},
   "outputs": [
    {
     "data": {
      "text/plain": [
       "('cpu', 12516)"
      ]
     },
     "execution_count": 7,
     "metadata": {},
     "output_type": "execute_result"
    }
   ],
   "source": [
    "@dataclass\n",
    "class Config:\n",
    "    \n",
    "    block_size = 256 # context-length\n",
    "    batch_size = 64 # mini-batch size\n",
    "    vocab_size = tokenizer.get_vocab_size()\n",
    "    train_size = 0.9 \n",
    "    n_embed = 384\n",
    "    n_heads = 6\n",
    "    head_size = n_embed // n_heads # computes to 384/6=64\n",
    "    n_layers = 3\n",
    "    train_iters = 500 # no. of batches to train on\n",
    "    val_iters = 50 # no. of batches to validate on every eval_intervals\n",
    "    eval_interval = 100 # validate after every eval_interval iterations while training\n",
    "    lr = 5e-4\n",
    "    attn_dropout = 0.2\n",
    "    block_dropout = 0.2\n",
    "    \n",
    "    device = 'cuda' if torch.cuda.is_available() else 'cpu'\n",
    "    \n",
    "Config.device, Config.vocab_size"
   ]
  },
  {
   "cell_type": "markdown",
   "metadata": {},
   "source": [
    "Dataset Loader"
   ]
  },
  {
   "cell_type": "code",
   "execution_count": 15,
   "metadata": {},
   "outputs": [],
   "source": [
    "class DatasetLoader:\n",
    "    def __init__(self, Config, is_test=False) -> None:\n",
    "        self.file_path = Path('../xdata/input.txt')\n",
    "        self.tokenizer_path = Path('input.json')\n",
    "        with open(self.file_path,'r',encoding='utf-8') as f:\n",
    "            self.data = f.read()\n",
    "        self.tokenizer = Tokenizer.from_file(str(self.tokenizer_path))\n",
    "        \n",
    "        self.full_data = torch.tensor(self.tokenizer.encode(self.data).ids, dtype=torch.long)\n",
    "        \n",
    "        self.is_test = is_test\n",
    "        if self.is_test:\n",
    "            self.data = self.full_data[int(Config.train_size*len(self.full_data)):]\n",
    "        else:\n",
    "            self.data = self.full_data[:int(Config.train_size*len(self.full_data))]\n",
    "\n",
    "        self.block_size = Config.block_size\n",
    "        self.batch_size = Config.batch_size\n",
    "\n",
    "    def __len__(self) -> int:\n",
    "        return len(self.data)\n",
    "\n",
    "    def get_block_size(self) -> int:\n",
    "        return self.block_size\n",
    "\n",
    "    def get_vocab_size(self) -> int:\n",
    "        return self.tokenizer.get_vocab_size()\n",
    "\n",
    "    def __next__(self):\n",
    "        ix = torch.randint(len(self.data) - self.block_size, (self.batch_size,))\n",
    "        x = torch.stack([self.data[i:i+self.block_size] for i in ix])\n",
    "        y = torch.stack([self.data[i+1:i+self.block_size+1] for i in ix])\n",
    "        return x,y"
   ]
  },
  {
   "cell_type": "markdown",
   "metadata": {},
   "source": [
    "Single Attention Head"
   ]
  },
  {
   "cell_type": "code",
   "execution_count": 9,
   "metadata": {},
   "outputs": [],
   "source": [
    "class SingleHeadAttention(nn.Module):\n",
    "    def __init__(self, Config):\n",
    "        super().__init__()\n",
    "\n",
    "        self.block_size = Config.block_size\n",
    "        self.n_embed = Config.n_embed\n",
    "        self.head_size = Config.head_size\n",
    "        \n",
    "        self.key = nn.Linear(self.n_embed, self.head_size, bias=False)\n",
    "        self.query = nn.Linear(self.n_embed, self.head_size, bias=False)\n",
    "        \n",
    "        self.value = nn.Linear(self.n_embed, self.head_size, bias=False)\n",
    "\n",
    "        self.register_buffer(\n",
    "            'tril',\n",
    "            torch.tril(torch.ones(self.block_size,self.block_size))\n",
    "        )\n",
    "        \n",
    "        self.dropout = nn.Dropout(Config.attn_dropout)\n",
    "\n",
    "    def forward(self, x):\n",
    "\n",
    "        B,T,C = x.shape\n",
    "\n",
    "        k = self.key(x)\n",
    "        q = self.query(x)\n",
    "\n",
    "        wei = q@k.transpose(-2,-1) * (C ** 0.5)\n",
    "        wei = wei.masked_fill(self.tril[:T,:T]==0,float('-inf'))\n",
    "        wei = F.softmax(wei, dim=-1)\n",
    "        wei = self.dropout(wei)\n",
    "        \n",
    "        v = self.value(x)\n",
    "        out = wei @ v\n",
    "        \n",
    "        return out"
   ]
  },
  {
   "cell_type": "markdown",
   "metadata": {},
   "source": [
    "Multi-Head Attention"
   ]
  },
  {
   "cell_type": "code",
   "execution_count": 10,
   "metadata": {},
   "outputs": [],
   "source": [
    "class MultiHeadAttention(nn.Module):\n",
    "    def __init__(self, Config):\n",
    "        super().__init__()\n",
    "        self.n_heads = Config.n_heads\n",
    "        self.head_size = Config.head_size\n",
    "        \n",
    "        self.heads = nn.ModuleList([SingleHeadAttention(Config) for _ in range(self.n_heads)])\n",
    "        \n",
    "        self.projection = nn.Linear(Config.n_embed, Config.n_embed)\n",
    "        \n",
    "        self.dropout = nn.Dropout(Config.attn_dropout)\n",
    "    \n",
    "    def forward(self,x):\n",
    "        x = torch.cat([h(x) for h in self.heads],dim=-1)\n",
    "        x = self.projection(x)\n",
    "        x = self.dropout(x)\n",
    "        return x"
   ]
  },
  {
   "cell_type": "markdown",
   "metadata": {},
   "source": [
    "Feed Forward Layer"
   ]
  },
  {
   "cell_type": "code",
   "execution_count": 11,
   "metadata": {},
   "outputs": [],
   "source": [
    "class FeedForward(nn.Module):\n",
    "    def __init__(self, Config):\n",
    "        super().__init__()\n",
    "        self.net = nn.Sequential(\n",
    "            nn.Linear(Config.n_embed,Config.n_embed * 4),\n",
    "            nn.ReLU(),\n",
    "            nn.Linear(Config.n_embed * 4, Config.n_embed), # projection\n",
    "            nn.Dropout(Config.block_dropout)\n",
    "        )\n",
    "    def forward(self,x):\n",
    "        return self.net(x)"
   ]
  },
  {
   "cell_type": "markdown",
   "metadata": {},
   "source": [
    "Transformer Block"
   ]
  },
  {
   "cell_type": "code",
   "execution_count": 12,
   "metadata": {},
   "outputs": [],
   "source": [
    "class TransformerBlock(nn.Module):\n",
    "    def __init__(self, Config):\n",
    "        super().__init__()\n",
    "        self.attn = MultiHeadAttention(Config)\n",
    "        self.ff = FeedForward(Config)\n",
    "        self.ln1 = nn.LayerNorm(Config.n_embed)\n",
    "        self.ln2 = nn.LayerNorm(Config.n_embed)\n",
    "\n",
    "    def forward(self,x):\n",
    "        x = x + self.attn(self.ln1(x))\n",
    "        x = x + self.ff(self.ln2(x))\n",
    "        \n",
    "        return x"
   ]
  },
  {
   "cell_type": "markdown",
   "metadata": {},
   "source": [
    "GPT"
   ]
  },
  {
   "cell_type": "code",
   "execution_count": 13,
   "metadata": {},
   "outputs": [],
   "source": [
    "class GPT(nn.Module):\n",
    "    def __init__(self,Config):\n",
    "        super().__init__()\n",
    "        \n",
    "        self.n_embed = Config.n_embed\n",
    "        self.block_size = Config.block_size\n",
    "        \n",
    "        self.token_embedding_table = nn.Embedding(Config.vocab_size,self.n_embed)\n",
    "        self.pos_embedding_table = nn.Embedding(self.block_size, self.n_embed)\n",
    "        \n",
    "        self.blocks = nn.Sequential(\n",
    "            *[TransformerBlock(Config)]*Config.n_layers,\n",
    "            nn.LayerNorm(self.n_embed)\n",
    "        )\n",
    "\n",
    "        self.lm_head = nn.Linear(self.n_embed,Config.vocab_size)\n",
    "        \n",
    "    def forward(self,idx):\n",
    "        \n",
    "        B,T = idx.shape\n",
    "        \n",
    "        token_embs = self.token_embedding_table(idx)\n",
    "        pos_embs = self.pos_embedding_table(torch.arange(T,device=Config.device))\n",
    "        \n",
    "        \n",
    "        x = token_embs + pos_embs\n",
    "        x = self.blocks(x)\n",
    "        logits = self.lm_head(x)\n",
    "        \n",
    "        return logits\n",
    "\n",
    "        \n",
    "    def generate(self,idx,total):\n",
    "        for _ in range(total):\n",
    "            idx_cond = idx[:, -self.block_size:]\n",
    "            logits= self(idx_cond)\n",
    "            logits = logits[:, -1, :]\n",
    "            probs = F.softmax(logits, dim=-1)\n",
    "            idx_next = torch.multinomial(probs, num_samples=1)\n",
    "            idx = torch.cat((idx, idx_next), dim=1)\n",
    "        return idx\n",
    "      "
   ]
  },
  {
   "cell_type": "markdown",
   "metadata": {},
   "source": [
    "Training"
   ]
  },
  {
   "cell_type": "code",
   "execution_count": 16,
   "metadata": {},
   "outputs": [],
   "source": [
    "train_ds = DatasetLoader(Config)\n",
    "val_ds = DatasetLoader(Config,is_test=True)"
   ]
  },
  {
   "cell_type": "code",
   "execution_count": 15,
   "metadata": {},
   "outputs": [],
   "source": [
    "lm = GPT(Config)\n",
    "lm = lm.to(device=Config.device)"
   ]
  },
  {
   "cell_type": "code",
   "execution_count": null,
   "metadata": {},
   "outputs": [],
   "source": [
    "# summary(lm,input_size=(Config.batch_size, Config.block_size),dtypes=[torch.long],depth=5,)"
   ]
  },
  {
   "cell_type": "markdown",
   "metadata": {},
   "source": [
    "Optimizer"
   ]
  },
  {
   "cell_type": "code",
   "execution_count": 17,
   "metadata": {},
   "outputs": [],
   "source": [
    "optim = torch.optim.AdamW(lm.parameters(), lr=Config.lr)"
   ]
  },
  {
   "cell_type": "markdown",
   "metadata": {},
   "source": [
    "Loss Function"
   ]
  },
  {
   "cell_type": "code",
   "execution_count": 18,
   "metadata": {},
   "outputs": [],
   "source": [
    "def loss_fn(logits, targets):\n",
    "    B,T,C = logits.shape\n",
    "    logits = logits.view(B*T, C)\n",
    "    targets = targets.view(B*T)\n",
    "    loss = F.cross_entropy(logits,targets)\n",
    "    return loss"
   ]
  },
  {
   "cell_type": "markdown",
   "metadata": {},
   "source": [
    "Validation loop"
   ]
  },
  {
   "cell_type": "code",
   "execution_count": 19,
   "metadata": {},
   "outputs": [],
   "source": [
    "@torch.no_grad()\n",
    "def valid_N_iters():\n",
    "    val_step_losses = []\n",
    "    for batch in tqdm(range(Config.val_iters)):\n",
    "        inputs, targets = next(val_ds)\n",
    "        inputs, targets = inputs.to(device=Config.device), targets.to(device=Config.device)\n",
    "        logits = lm(inputs)\n",
    "        loss = loss_fn(logits,targets)\n",
    "        val_step_losses.append(loss.item())\n",
    "        \n",
    "        del inputs, targets, loss, logits\n",
    "    \n",
    "    val_loss = torch.tensor(val_step_losses).mean()\n",
    "    print(f'val loss: {val_loss}')\n",
    "    return val_loss"
   ]
  },
  {
   "cell_type": "markdown",
   "metadata": {},
   "source": [
    "Training Loop"
   ]
  },
  {
   "cell_type": "code",
   "execution_count": 20,
   "metadata": {},
   "outputs": [],
   "source": [
    "def train_N_iters():\n",
    "    lm.train()\n",
    "    train_step_losses = []\n",
    "    val_losses = []\n",
    "    for batch in tqdm(range(Config.train_iters)):\n",
    "        optim.zero_grad()\n",
    "        inputs, targets = next(train_ds)\n",
    "        inputs, targets = inputs.to(device=Config.device), targets.to(device=Config.device)\n",
    "        logits = lm(inputs)\n",
    "        loss = loss_fn(logits,targets)\n",
    "        loss.backward()\n",
    "        optim.step()\n",
    "        train_step_losses.append(loss.item())\n",
    "        \n",
    "        if batch%(Config.train_iters//10)==0 or batch==Config.train_iters-1:\n",
    "            print(f\"\\n{'-'*50}\\nbatch {batch} train step loss: {loss.item()}\")\n",
    "            print(f\"train loss so far: {torch.tensor(train_step_losses).mean()}\\n{'-'*50}\\n\")\n",
    "            \n",
    "        if batch%Config.eval_interval==0 or batch==Config.train_iters-1:\n",
    "            lm.eval()\n",
    "            val_loss = valid_N_iters()\n",
    "            lm.train()\n",
    "            val_losses.append(val_loss.item())\n",
    "            \n",
    "            del val_loss\n",
    "            \n",
    "        del inputs, targets, loss, logits\n",
    "        \n",
    "    return train_step_losses, val_losses"
   ]
  },
  {
   "cell_type": "code",
   "execution_count": 21,
   "metadata": {},
   "outputs": [],
   "source": [
    "def save_lm():\n",
    "    state_dict = lm.state_dict()\n",
    "    save_path = Path('./')\n",
    "    save_path.mkdir(exist_ok=True)\n",
    "    model_path = save_path / f'basicGPT.pth'\n",
    "    torch.save(state_dict, model_path)"
   ]
  },
  {
   "cell_type": "code",
   "execution_count": 22,
   "metadata": {},
   "outputs": [],
   "source": [
    "def train_lm():\n",
    "    train_step_losses,val_losses = train_N_iters()\n",
    "    save_lm()\n",
    "    return train_step_losses,val_losses"
   ]
  },
  {
   "cell_type": "code",
   "execution_count": 23,
   "metadata": {},
   "outputs": [
    {
     "name": "stderr",
     "output_type": "stream",
     "text": [
      "huggingface/tokenizers: The current process just got forked, after parallelism has already been used. Disabling parallelism to avoid deadlocks...\n",
      "To disable this warning, you can either:\n",
      "\t- Avoid using `tokenizers` before the fork if possible\n",
      "\t- Explicitly set the environment variable TOKENIZERS_PARALLELISM=(true | false)\n"
     ]
    },
    {
     "data": {
      "application/vnd.jupyter.widget-view+json": {
       "model_id": "47737368c48f4e2ba202dd7169e74c53",
       "version_major": 2,
       "version_minor": 0
      },
      "text/plain": [
       "  0%|          | 0/500 [00:00<?, ?it/s]"
      ]
     },
     "metadata": {},
     "output_type": "display_data"
    },
    {
     "name": "stdout",
     "output_type": "stream",
     "text": [
      "Intel MKL WARNING: Support of Intel(R) Streaming SIMD Extensions 4.2 (Intel(R) SSE4.2) enabled only processors has been deprecated. Intel oneAPI Math Kernel Library 2025.0 will require Intel(R) Advanced Vector Extensions (Intel(R) AVX) instructions.\n",
      "\n",
      "--------------------------------------------------\n",
      "batch 0 train step loss: 9.609286308288574\n",
      "train loss so far: 9.609286308288574\n",
      "--------------------------------------------------\n",
      "\n"
     ]
    },
    {
     "data": {
      "application/vnd.jupyter.widget-view+json": {
       "model_id": "ab3208f261c64ae1a0abfab098f3ae9f",
       "version_major": 2,
       "version_minor": 0
      },
      "text/plain": [
       "  0%|          | 0/50 [00:00<?, ?it/s]"
      ]
     },
     "metadata": {},
     "output_type": "display_data"
    },
    {
     "name": "stdout",
     "output_type": "stream",
     "text": [
      "val loss: 8.987764358520508\n",
      "\n",
      "--------------------------------------------------\n",
      "batch 50 train step loss: 5.794539928436279\n",
      "train loss so far: 6.439533233642578\n",
      "--------------------------------------------------\n",
      "\n",
      "\n",
      "--------------------------------------------------\n",
      "batch 100 train step loss: 5.595500946044922\n",
      "train loss so far: 6.041148662567139\n",
      "--------------------------------------------------\n",
      "\n"
     ]
    },
    {
     "data": {
      "application/vnd.jupyter.widget-view+json": {
       "model_id": "06183ea42f1347a09adc9b975f542a34",
       "version_major": 2,
       "version_minor": 0
      },
      "text/plain": [
       "  0%|          | 0/50 [00:00<?, ?it/s]"
      ]
     },
     "metadata": {},
     "output_type": "display_data"
    },
    {
     "name": "stdout",
     "output_type": "stream",
     "text": [
      "val loss: 5.582905292510986\n",
      "\n",
      "--------------------------------------------------\n",
      "batch 150 train step loss: 5.180166721343994\n",
      "train loss so far: 5.797584056854248\n",
      "--------------------------------------------------\n",
      "\n",
      "\n",
      "--------------------------------------------------\n",
      "batch 200 train step loss: 4.906015396118164\n",
      "train loss so far: 5.613602638244629\n",
      "--------------------------------------------------\n",
      "\n"
     ]
    },
    {
     "data": {
      "application/vnd.jupyter.widget-view+json": {
       "model_id": "59f844be8b2143bc99023417571e4db7",
       "version_major": 2,
       "version_minor": 0
      },
      "text/plain": [
       "  0%|          | 0/50 [00:00<?, ?it/s]"
      ]
     },
     "metadata": {},
     "output_type": "display_data"
    },
    {
     "name": "stdout",
     "output_type": "stream",
     "text": [
      "val loss: 5.295295238494873\n",
      "\n",
      "--------------------------------------------------\n",
      "batch 250 train step loss: 4.825366020202637\n",
      "train loss so far: 5.471171855926514\n",
      "--------------------------------------------------\n",
      "\n",
      "\n",
      "--------------------------------------------------\n",
      "batch 300 train step loss: 4.734329700469971\n",
      "train loss so far: 5.352146625518799\n",
      "--------------------------------------------------\n",
      "\n"
     ]
    },
    {
     "data": {
      "application/vnd.jupyter.widget-view+json": {
       "model_id": "a79b80e7a3f4475c8b90db8c3976dcfe",
       "version_major": 2,
       "version_minor": 0
      },
      "text/plain": [
       "  0%|          | 0/50 [00:00<?, ?it/s]"
      ]
     },
     "metadata": {},
     "output_type": "display_data"
    },
    {
     "name": "stdout",
     "output_type": "stream",
     "text": [
      "val loss: 5.2390828132629395\n",
      "\n",
      "--------------------------------------------------\n",
      "batch 350 train step loss: 4.65593147277832\n",
      "train loss so far: 5.25193452835083\n",
      "--------------------------------------------------\n",
      "\n",
      "\n",
      "--------------------------------------------------\n",
      "batch 400 train step loss: 4.505341053009033\n",
      "train loss so far: 5.162240982055664\n",
      "--------------------------------------------------\n",
      "\n"
     ]
    },
    {
     "data": {
      "application/vnd.jupyter.widget-view+json": {
       "model_id": "1f6f4e1dd7144d0cbf671edacc82faf1",
       "version_major": 2,
       "version_minor": 0
      },
      "text/plain": [
       "  0%|          | 0/50 [00:00<?, ?it/s]"
      ]
     },
     "metadata": {},
     "output_type": "display_data"
    },
    {
     "name": "stdout",
     "output_type": "stream",
     "text": [
      "val loss: 5.225529670715332\n",
      "\n",
      "--------------------------------------------------\n",
      "batch 450 train step loss: 4.414461612701416\n",
      "train loss so far: 5.084053993225098\n",
      "--------------------------------------------------\n",
      "\n",
      "\n",
      "--------------------------------------------------\n",
      "batch 499 train step loss: 4.311504364013672\n",
      "train loss so far: 5.016345500946045\n",
      "--------------------------------------------------\n",
      "\n"
     ]
    },
    {
     "data": {
      "application/vnd.jupyter.widget-view+json": {
       "model_id": "b3b4a8bf157042209c79d036dbd1d2f3",
       "version_major": 2,
       "version_minor": 0
      },
      "text/plain": [
       "  0%|          | 0/50 [00:00<?, ?it/s]"
      ]
     },
     "metadata": {},
     "output_type": "display_data"
    },
    {
     "name": "stdout",
     "output_type": "stream",
     "text": [
      "val loss: 5.263980865478516\n"
     ]
    }
   ],
   "source": [
    "tsl,vl=train_lm()"
   ]
  },
  {
   "cell_type": "code",
   "execution_count": 24,
   "metadata": {},
   "outputs": [
    {
     "name": "stdout",
     "output_type": "stream",
     "text": [
      "Train Loss: 5.016345500946045\n"
     ]
    }
   ],
   "source": [
    "tsl_mean = torch.tensor(tsl).mean()\n",
    "print('Train Loss:',tsl_mean.item())"
   ]
  },
  {
   "cell_type": "code",
   "execution_count": 25,
   "metadata": {},
   "outputs": [
    {
     "data": {
      "image/png": "[encoded data removed]",
      "text/plain": [
       "<Figure size 640x480 with 1 Axes>"
      ]
     },
     "metadata": {},
     "output_type": "display_data"
    },
    {
     "data": {
      "image/png": "[encoded data removed]",
      "text/plain": [
       "<Figure size 640x480 with 1 Axes>"
      ]
     },
     "metadata": {},
     "output_type": "display_data"
    }
   ],
   "source": [
    "plt.plot(tsl,label='train step loss',color='orange')\n",
    "plt.legend()\n",
    "plt.show()\n",
    "plt.plot(vl,label='validation loss',color='green')\n",
    "plt.legend()\n",
    "plt.show()"
   ]
  },
  {
   "cell_type": "markdown",
   "metadata": {},
   "source": [
    "Generate text"
   ]
  },
  {
   "cell_type": "code",
   "execution_count": 26,
   "metadata": {},
   "outputs": [
    {
     "name": "stdout",
     "output_type": "stream",
     "text": [
      "generated (100 tokens)\n",
      "==================================================\n",
      "\n",
      "O, of mine own shroud, that things clear them, what we may not knowledge sovereignty.\n",
      "WARWICK:\n",
      "PRINCE EDWARD:\n",
      "CAPULET: then be talked soul's cand commit be language, the most criesst glean it maruradvised\n",
      "embra eye, sir?\n",
      "\n",
      "CORIOLANUS:\n",
      "Nay,\n",
      "\n",
      "Found; such bands Aumerle, soft our council Warwick owe of mine, ista,\n",
      "very peace. Look,\n",
      "By meat sun exhales to thy house\n",
      "\n",
      "And in the trumpets\n",
      "==================================================\n",
      "\n",
      "\n",
      "generated (300 tokens)\n",
      "==================================================\n",
      "\n",
      "Now Warwick to thyself more remedy: we doubt so muchn toucheswing, the suppli were it were--\n",
      "By one father, newly gctde driKING HENRY VI:\n",
      "Nay, and my trembling stand upon her princely hours pay?\n",
      "Which we did I pray fall the first did find more than a fearfulaleare grace\n",
      "More than woe disdain my lord, you, we proveetsactors,\n",
      "That you are to the coffin my angry for bread,\n",
      "That our former envied sevener stain your potency too more.\n",
      "\n",
      "Out upon it shall pursue.\n",
      "He's hearing!\n",
      "Against a single to us both alone in the purpose,\n",
      "Lie; and their years.\n",
      "Since pile for no drum ta' Thursday next,\n",
      "\n",
      "embraona toaze.\n",
      "Like powder, in those blood, and well cunning mercy, you promised to Saint Alban's royal sake, and worse than tides wounds you keep your vassals; what end of France, the rapier, to justice.\n",
      "ESCALUS:\n",
      "So you as you have shed our heads awhile, in justice\n",
      "\n",
      "Now you, that you have brawl, for the people signal with me.\n",
      "\n",
      "By this pleasure, I request, to the hope,\n",
      "That from my master?\n",
      "I think to the bring me:\n",
      "In the frozen which I wander\n",
      "CAPULET:\n",
      "O, which I deg back and immortal father,\n",
      "Fbs course, you will resolve.\n",
      "\n",
      "Believe brawls,\n",
      "HENRY BOLINGBROKE:\n",
      "==================================================\n",
      "\n",
      "\n",
      "generated (500 tokens)\n",
      "==================================================\n",
      "\n",
      "And never be;\n",
      "And need now hotowlsos foolishly loud as partly'st told us.\n",
      "\n",
      "\n",
      "had by our lord,\n",
      "hod to see her loves with thee to this way,\n",
      "To him after of\n",
      "Third Gentleman:\n",
      "Ander the place,\n",
      "That I throw my phy of Polixenesiss him.\n",
      "O abundant, give him here's pleasure unto our grievous in thy bed, here An?\n",
      "A greater.\n",
      "\n",
      "To reach's birded footing:\n",
      "DUKE VINCENTIO: Lady:\n",
      "Qu the napkining Capulet.\n",
      "Once forfeit\n",
      "Touching earn'd as thou likeness, thy care hath dreams thine;\n",
      "of;\n",
      "My lord; not honestalms, is our flesh,\n",
      "Doth ones 'tisELBOW:\n",
      "\n",
      "That thou, mens upon her with slaves\n",
      "If evere of revenge me, I have Gcome with the col upon no need I love you might but himself perceive do:\n",
      "And meaner with his finger,\n",
      "I give me pent! I have ta' windows sudden in my sens motion art deceived.\n",
      "GLOUCESTER:\n",
      "kind like, to be your estate and you with me too sudden lords. Pittancet a joyful haste.\n",
      "HENRY BOLINGBROKE:\n",
      "\n",
      "\n",
      "Do you\n",
      "bones nor doing:--eep piteous term strong-gentle:\n",
      "great oppos-tie your sister may die is run for his own defence\n",
      "Which I did owe of them in the contents\n",
      "Might to make a sort of flowers half you indeed thee to thy say! O, or I not your kind commends;\n",
      "KING RICHARD III:\n",
      "\n",
      "As I stand they shall remain they sm can make thee was King Henry.\n",
      "to; indeed her sweet distemper windshamed:\n",
      "I know not; that young is fast.\n",
      "Be crows.\n",
      "The people from her,\n",
      "That's your bawd,\n",
      "As is mine honour's grown where her allies.\n",
      "Here's chinks to none:\n",
      "Here, we intend to quench any great.\n",
      "Twenty: to the extreme makes his pond.\n",
      "While, to rusters, die in ourself that she shall but known law,\n",
      "BUSHY:\n",
      "Keeperken:\n",
      "Should rift here?\n",
      "MERCUTIO:\n",
      "speech pensive his accusers and let me but I cannot title, ay\n",
      "He Hastings that same ancient like substance you, that,\n",
      "To make remedy me for't like a more like sweet love that, I have kept you are not my kindred.\n",
      "Which must with '\n",
      "==================================================\n",
      "\n",
      "\n",
      "generated (700 tokens)\n",
      "==================================================\n",
      "\n",
      "\n",
      "Is the demands you, your channelill.\n",
      "Nay,\n",
      "He nor,\n",
      "All Menenius does nightison featly;\n",
      "And as good madam, in sober the to my sister is come and all enc their I my nobility of banishment the Best drudge. Sweet Isabel.\n",
      "But I pent.\n",
      "For thy unruly?\n",
      "And all that's, where service.\n",
      "f greeting and king takes her marriage.\n",
      "\n",
      "Here! Did that small'd\n",
      "Because this thou rescue,\n",
      "Knock, stay?\n",
      "Ay, rise, rank of the spring!\n",
      "MENENIUS:\n",
      "By as it must take our company\n",
      "The foot, Henry maid?\n",
      "How now\n",
      "As, madamed\n",
      "Do shent misfortune\n",
      "False every true:\n",
      "When I had our two,\n",
      "A lie know you the monument and keep 'tis unto your soldier; but as a perpetual, my heart of the sacrament bloody behind this with an assault she is no bigger, that, you, live in\n",
      "And, well.\n",
      "That ever, hath fe might lie, methoughts with your honour'dst, go. Be forth to the leather milk.\n",
      "Whom not be so tender princes\n",
      "And many winters in the corn would they talk of Buckingham and the dra, no, come, I apply relation.\n",
      "His name? they may prevail'd you lack dead?\n",
      "And now might win your good earnest\n",
      "Thou hast thou dost, and;\n",
      "\n",
      "\n",
      "\n",
      "And many great designs king, whom they marry; I have heard you now\n",
      "DUKE VINCENTIO:\n",
      "The Sointed:\n",
      "This messenger; keep him now the Sly, none disease you have left him:\n",
      "\n",
      "moteDid nine:\n",
      "Be not withal of her brother,--which plot;\n",
      "Consuming how the price for that a worthy be pity; both, if you, poor gentleman aside not change your name to thy neckfume anon, I in the Bianca,\n",
      "Wise.\n",
      "\n",
      "NORFOLK:\n",
      "But bare colder command and the ass ignorant\n",
      "That every high enemy would have made my page. And hath power from the firmly ebb:\n",
      "I chide.\n",
      "SLY:\n",
      "Cannot you in braving:\n",
      "\n",
      "murderer:\n",
      "And give; well,\n",
      "Were it.\n",
      "And I fell of eyes.\n",
      "\n",
      "The expir exactly beseeming ornaments proofs all in a respectedook; good nurse! why, go:\n",
      "ESCALUS: but to know down that give you that you know\n",
      "\n",
      "Courage\n",
      "Richardam of the pals sway you, of this resolve you play'er your highness'? such likeness's, see\n",
      "\n",
      "Which waits hag Well; I.'\n",
      "\n",
      "YORK:\n",
      "This is ready\n",
      "I have,\n",
      "Lord didst sleep make away?\n",
      "Before King Richard is shrift\n",
      "NeGod does wound letters colour to your Leontes ta' the towns and so, thine.\n",
      "PARIS:\n",
      "KING RICHARD III:\n",
      "Page: do prank of such murderers from me and stones of thousand fearful new bride, insolenceancy: you do you and land; for me then a sentence of our streetsissions?\n",
      "DUKE VINCENTIO:\n",
      "Armber shall not wed! Sure eat welcome, by the court-orn that I would spare thee as's vault,\n",
      "Made him from my standing the King Richard'st my good my Doricles mAUTOLYCUS:\n",
      "\n",
      "A gross\n",
      "Than them?\n",
      "When thou know these IrishSc are you have am the crown and set by like my knowledge by this day!\n",
      "For Mariana myself\n",
      "==================================================\n",
      "\n",
      "\n",
      "generated (1000 tokens)\n",
      "==================================================\n",
      "\n",
      "LOVEL:\n",
      "Ratcliff, alas?\n",
      "QUEEN ELIZABETH: go and all that must fly.\n",
      "To fright me?\n",
      "Save 'tis a man, you opinion so any you. limb your here?\n",
      "Have sprung\n",
      "Whatemery and please you disturbces Henry,\n",
      "JULIET:\n",
      "KING RICHARD II:\n",
      "\n",
      "And now to be she the infectious to stay with him buy of traitors 't the sun-allel! and show us mark me, Death to answer. morsel,\n",
      "shepherd by chance,\n",
      "Lest you have\n",
      "That he hath come.\n",
      "Shate live chaste worse of a man that my country's a very execution, to Corioli to the news did road\n",
      "To read was featly,\n",
      "Unt to enter'd his Philip the hire contin him!\n",
      "HASTINGS:\n",
      "If it shall he been menatert accents had lecher I be so too:\n",
      "Being arroganceoved to the mortal-bewasted to bed of great king\n",
      "and now\n",
      "Tandal any thing on the eastern, on it?\n",
      "I crave a reasonable hate have:\n",
      "\n",
      "Good prayers of unquiet of a goods all.\n",
      "His deputy the\n",
      "By 'True.\n",
      "Stay?\n",
      "To the lord,\n",
      "Citizens:\n",
      "\n",
      "POLIXENES: it speedily\n",
      "\n",
      "And therefore?\n",
      "Of that ancient king:\n",
      "should helpsilly, knock that I cannot buy the blessed life?\n",
      "the queen.\n",
      "\n",
      "\n",
      "Should make thee! marry lovers'er remain\n",
      "ESCALUS:\n",
      "ANGELO: not amiss, shoim napkin. As you so hard, at yourackey assem,\n",
      "FLORIZEL:\n",
      "Your mother, in him,'.\n",
      "\n",
      "be me;\n",
      "And let it with shrieks Wednesday is dead man no doubt not, with a gulf\n",
      "And how totrue purcha voices, who wants\n",
      "HASTINGS:\n",
      "\n",
      "Unless prophet soul,\n",
      "To spend\n",
      "For my sovereign bir.\n",
      "\n",
      "I must I am I swear me, is my everlasting-inin were used me to be tediousone occasion,\n",
      "GREMIO:\n",
      "sever'd who he doth hold it is the Duke of anyden'd by Pbs known;\n",
      "\n",
      "' the purpose and his bright in this,\n",
      "That I wish them you, if the Lewis.\n",
      "I have passes me that convers is:\n",
      "He would not for I king!\n",
      "\n",
      "When you there, I should command usage purpose I truly and justice:\n",
      "He would have burst; I should lose his grave, fools. O 'tis not this cause.\n",
      "Bede entrance,\n",
      "Be\n",
      "FRIAR LAURENCE:\n",
      "of false lawless mayst saw speech, the hour, sometimesmen?\n",
      "The people should lament open-st spices.\n",
      "Most if you have worn.\n",
      "To look thee, and numbersWitness here, from Your restjedy; Godvering:\n",
      "Which, to make it is plot I shall this land sing me away;\n",
      "\n",
      "Thy father can have.\n",
      "Ay, a French, Lord to all oaths lose good my armour a necessity mine own\n",
      "sentenced,\n",
      "Was to, her, so fair is good.\n",
      "Gra:\n",
      "\n",
      "TRANIO: are so roundly:\n",
      "NORFOLK:\n",
      "\n",
      "Have you so city back\n",
      "That is?\n",
      "How, sith coward diseases.\n",
      "war mist mistake of CyicallRetire\n",
      "\n",
      "\n",
      "Nay,\n",
      "\n",
      "And need?\n",
      "Come, I\n",
      "Has thou from it were all often draw a thousand times,\n",
      "Whate' woe, thou live, no! every land.\n",
      "SOMERSET:\n",
      "Had I procure'd\n",
      "\n",
      "And fly!\n",
      "Beseech you look with womenShe have resign baggage:\n",
      "BAPTISTA\n",
      "To mine own affections just?\n",
      "And you might thereof is it,--\n",
      "Yea; and we'll commandvest your scope could never\n",
      "Which the otherled!\n",
      "BRUTUS:\n",
      "\n",
      "Lord birds you can no. Amother to Rome:\n",
      "Come that made great Hercules in this? I be silental rascal of me thy heart,--what my queen!\n",
      "For indeed, who\n",
      "To odds we heir, sir, which is\n",
      "The honourable heaviness, Queen Margaret's this head that?\n",
      "Than.\n",
      "I had you had some flowers for present wars, effeminate,\n",
      "What must we hear me it is my person have nothing but learn from this same soldier of that I none were an aspect villain receive her excellence servant do\n",
      "\n",
      "You cavil!\n",
      "PERDITA:\n",
      "First Citizen:\n",
      "He shall great king and you themselvesagto prison,\n",
      "\n",
      "Freed:\n",
      "For such wings; I know King of you will he is my lords;ld my own?\n",
      "And yet.\n",
      "\n",
      "And that runs and set down, girls either\n",
      "In injustice in a cruel God,\n",
      "Measure highway contract and\n",
      "And now thou of my borrow, and tell me. His ill cour and heart:\n",
      "WESTMORELAND: there's gone,\n",
      "LEONTES:\n",
      "EDWARD:\n",
      "serid here,\n",
      "Which feetet motion are we hear his pomp would not King Lewis to occup king. By thou\n",
      "==================================================\n",
      "\n",
      "\n"
     ]
    }
   ],
   "source": [
    "generated_texts = []\n",
    "for length in [100,300,500,700,1000]:\n",
    "    generated = lm.generate(\n",
    "    torch.zeros((1,1),dtype=torch.long,device=Config.device)+61, # initial context 61 (i believe its \\n)\n",
    "    total=length\n",
    ")\n",
    "    generated = tokenizer.decode(generated[0].cpu().numpy())\n",
    "    text=f'generated ({length} tokens)\\n{\"=\"*50}\\n{generated}\\n{\"=\"*50}\\n\\n'\n",
    "    generated_texts.append(text)\n",
    "    print(text)"
   ]
  },
  {
   "cell_type": "code",
   "execution_count": 27,
   "metadata": {},
   "outputs": [],
   "source": [
    "with open('generated.txt','w') as f:\n",
    "    for text in generated_texts:\n",
    "        f.write(text)"
   ]
  },
  {
   "cell_type": "markdown",
   "metadata": {},
   "source": [
    "## Evaluation"
   ]
  }
 ],
 "metadata": {
  "kernelspec": {
   "display_name": "mforge39",
   "language": "python",
   "name": "python3"
  },
  "language_info": {
   "codemirror_mode": {
    "name": "ipython",
    "version": 3
   },
   "file_extension": ".py",
   "mimetype": "text/x-python",
   "name": "python",
   "nbconvert_exporter": "python",
   "pygments_lexer": "ipython3",
   "version": "3.9.19"
  }
 },
 "nbformat": 4,
 "nbformat_minor": 2
}
