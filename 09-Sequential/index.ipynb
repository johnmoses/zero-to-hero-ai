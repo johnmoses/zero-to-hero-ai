{
 "cells": [
  {
   "cell_type": "markdown",
   "metadata": {},
   "source": [
    "# Sequential Data and Time Series\n",
    "\n",
    "- [Introduction](00-intro.ipynb)\n",
    "- [Pandas with Time Series](00-intro.ipynb)\n",
    "- [Hidden Markov Data Generation](00-intro.ipynb)\n",
    "- [Stock Market Analysis](00-intro.ipynb)"
   ]
  }
 ],
 "metadata": {
  "language_info": {
   "name": "python"
  }
 },
 "nbformat": 4,
 "nbformat_minor": 2
}
