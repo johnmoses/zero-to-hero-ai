{
 "cells": [
  {
   "cell_type": "markdown",
   "metadata": {},
   "source": [
    "# Data\n",
    "\n",
    "- [Introduction](intro.ipynb)\n",
    "- [Data Retrieval](retrieval.ipynb)\n",
    "- [Data Manipulation](manipulation.ipynb)\n",
    "- [Data Visualization](visualization.ipynb)"
   ]
  }
 ],
 "metadata": {
  "language_info": {
   "name": "python"
  }
 },
 "nbformat": 4,
 "nbformat_minor": 2
}
