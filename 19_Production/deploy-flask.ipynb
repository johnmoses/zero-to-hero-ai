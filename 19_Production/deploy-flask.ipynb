{
 "cells": [
  {
   "cell_type": "markdown",
   "metadata": {},
   "source": [
    "## Deploy in flask web application"
   ]
  },
  {
   "cell_type": "code",
   "execution_count": 29,
   "metadata": {},
   "outputs": [
    {
     "name": "stderr",
     "output_type": "stream",
     "text": [
      " * Running on http://localhost:5000/ (Press CTRL+C to quit)\n",
      "127.0.0.1 - - [20/Oct/2021 11:24:17] \"GET / HTTP/1.1\" 200 -\n"
     ]
    }
   ],
   "source": [
    "from flask import Flask\n",
    "from werkzeug.serving import run_simple\n",
    "\n",
    "app = Flask(__name__)\n",
    "\n",
    "@app.route(\"/\")\n",
    "def hello():\n",
    "    return \"Hello World!\"\n",
    "\n",
    "if __name__ == \"__main__\":\n",
    "    run_simple('localhost', 5000, app)"
   ]
  },
  {
   "cell_type": "code",
   "execution_count": 30,
   "metadata": {},
   "outputs": [
    {
     "data": {
      "text/html": [
       "<div>\n",
       "<style scoped>\n",
       "    .dataframe tbody tr th:only-of-type {\n",
       "        vertical-align: middle;\n",
       "    }\n",
       "\n",
       "    .dataframe tbody tr th {\n",
       "        vertical-align: top;\n",
       "    }\n",
       "\n",
       "    .dataframe thead th {\n",
       "        text-align: right;\n",
       "    }\n",
       "</style>\n",
       "<table border=\"1\" class=\"dataframe\">\n",
       "  <thead>\n",
       "    <tr style=\"text-align: right;\">\n",
       "      <th></th>\n",
       "      <th>mpg</th>\n",
       "      <th>cylinders</th>\n",
       "      <th>displacement</th>\n",
       "      <th>horsepower</th>\n",
       "      <th>weight</th>\n",
       "      <th>acceleration</th>\n",
       "      <th>year</th>\n",
       "      <th>origin</th>\n",
       "      <th>name</th>\n",
       "    </tr>\n",
       "  </thead>\n",
       "  <tbody>\n",
       "    <tr>\n",
       "      <th>0</th>\n",
       "      <td>18.0</td>\n",
       "      <td>8</td>\n",
       "      <td>307.0</td>\n",
       "      <td>130.0</td>\n",
       "      <td>3504</td>\n",
       "      <td>12.0</td>\n",
       "      <td>70</td>\n",
       "      <td>1</td>\n",
       "      <td>chevrolet chevelle malibu</td>\n",
       "    </tr>\n",
       "    <tr>\n",
       "      <th>1</th>\n",
       "      <td>15.0</td>\n",
       "      <td>8</td>\n",
       "      <td>350.0</td>\n",
       "      <td>165.0</td>\n",
       "      <td>3693</td>\n",
       "      <td>11.5</td>\n",
       "      <td>70</td>\n",
       "      <td>1</td>\n",
       "      <td>buick skylark 320</td>\n",
       "    </tr>\n",
       "    <tr>\n",
       "      <th>2</th>\n",
       "      <td>18.0</td>\n",
       "      <td>8</td>\n",
       "      <td>318.0</td>\n",
       "      <td>150.0</td>\n",
       "      <td>3436</td>\n",
       "      <td>11.0</td>\n",
       "      <td>70</td>\n",
       "      <td>1</td>\n",
       "      <td>plymouth satellite</td>\n",
       "    </tr>\n",
       "    <tr>\n",
       "      <th>3</th>\n",
       "      <td>16.0</td>\n",
       "      <td>8</td>\n",
       "      <td>304.0</td>\n",
       "      <td>150.0</td>\n",
       "      <td>3433</td>\n",
       "      <td>12.0</td>\n",
       "      <td>70</td>\n",
       "      <td>1</td>\n",
       "      <td>amc rebel sst</td>\n",
       "    </tr>\n",
       "    <tr>\n",
       "      <th>4</th>\n",
       "      <td>17.0</td>\n",
       "      <td>8</td>\n",
       "      <td>302.0</td>\n",
       "      <td>140.0</td>\n",
       "      <td>3449</td>\n",
       "      <td>10.5</td>\n",
       "      <td>70</td>\n",
       "      <td>1</td>\n",
       "      <td>ford torino</td>\n",
       "    </tr>\n",
       "  </tbody>\n",
       "</table>\n",
       "</div>"
      ],
      "text/plain": [
       "    mpg  cylinders  displacement  horsepower  weight  acceleration  year  \\\n",
       "0  18.0          8         307.0       130.0    3504          12.0    70   \n",
       "1  15.0          8         350.0       165.0    3693          11.5    70   \n",
       "2  18.0          8         318.0       150.0    3436          11.0    70   \n",
       "3  16.0          8         304.0       150.0    3433          12.0    70   \n",
       "4  17.0          8         302.0       140.0    3449          10.5    70   \n",
       "\n",
       "   origin                       name  \n",
       "0       1  chevrolet chevelle malibu  \n",
       "1       1          buick skylark 320  \n",
       "2       1         plymouth satellite  \n",
       "3       1              amc rebel sst  \n",
       "4       1                ford torino  "
      ]
     },
     "execution_count": 30,
     "metadata": {},
     "output_type": "execute_result"
    }
   ],
   "source": [
    "from tensorflow.keras.models import Sequential\n",
    "from tensorflow.keras.layers import Dense, Activation\n",
    "from sklearn.model_selection import train_test_split\n",
    "from tensorflow.keras.callbacks import EarlyStopping\n",
    "from sklearn import metrics\n",
    "import pandas as pd\n",
    "import numpy as np\n",
    "import io, os, requests\n",
    "\n",
    "df = pd.read_csv(r'../../all-data/ml/auto-mpg.csv', na_values=['NA','?'])\n",
    "\n",
    "df.head()"
   ]
  },
  {
   "cell_type": "code",
   "execution_count": 31,
   "metadata": {},
   "outputs": [
    {
     "data": {
      "text/plain": [
       "mpg             0\n",
       "cylinders       0\n",
       "displacement    0\n",
       "horsepower      6\n",
       "weight          0\n",
       "acceleration    0\n",
       "year            0\n",
       "origin          0\n",
       "name            0\n",
       "dtype: int64"
      ]
     },
     "execution_count": 31,
     "metadata": {},
     "output_type": "execute_result"
    }
   ],
   "source": [
    "df.isnull().sum()"
   ]
  },
  {
   "cell_type": "code",
   "execution_count": 32,
   "metadata": {},
   "outputs": [],
   "source": [
    "df['horsepower'] = df['horsepower'].fillna(df['horsepower'].median())"
   ]
  },
  {
   "cell_type": "code",
   "execution_count": 33,
   "metadata": {},
   "outputs": [
    {
     "data": {
      "text/plain": [
       "mpg             0\n",
       "cylinders       0\n",
       "displacement    0\n",
       "horsepower      0\n",
       "weight          0\n",
       "acceleration    0\n",
       "year            0\n",
       "origin          0\n",
       "name            0\n",
       "dtype: int64"
      ]
     },
     "execution_count": 33,
     "metadata": {},
     "output_type": "execute_result"
    }
   ],
   "source": [
    "df.isnull().sum()"
   ]
  },
  {
   "cell_type": "code",
   "execution_count": 34,
   "metadata": {},
   "outputs": [],
   "source": [
    "x = df[['cylinders', 'displacement', 'horsepower', 'weight', 'acceleration', 'year', 'origin']].values\n",
    "y = df['mpg'].values"
   ]
  },
  {
   "cell_type": "code",
   "execution_count": 35,
   "metadata": {},
   "outputs": [
    {
     "data": {
      "text/plain": [
       "numpy.ndarray"
      ]
     },
     "execution_count": 35,
     "metadata": {},
     "output_type": "execute_result"
    }
   ],
   "source": [
    "type(y)"
   ]
  },
  {
   "cell_type": "code",
   "execution_count": 36,
   "metadata": {},
   "outputs": [],
   "source": [
    "x_train, x_test, y_train, y_test = train_test_split(x, y, test_size=0.25, random_state=42)"
   ]
  },
  {
   "cell_type": "code",
   "execution_count": 37,
   "metadata": {},
   "outputs": [
    {
     "data": {
      "text/plain": [
       "(298, 7)"
      ]
     },
     "execution_count": 37,
     "metadata": {},
     "output_type": "execute_result"
    }
   ],
   "source": [
    "x_train.shape"
   ]
  },
  {
   "cell_type": "code",
   "execution_count": 38,
   "metadata": {},
   "outputs": [
    {
     "name": "stdout",
     "output_type": "stream",
     "text": [
      "Epoch 1/1000\n",
      "10/10 - 0s - loss: 2210.1851 - val_loss: 1339.2434\n",
      "Epoch 2/1000\n",
      "10/10 - 0s - loss: 519.4469 - val_loss: 558.7532\n",
      "Epoch 3/1000\n",
      "10/10 - 0s - loss: 228.9088 - val_loss: 244.6536\n",
      "Epoch 4/1000\n",
      "10/10 - 0s - loss: 143.0400 - val_loss: 127.9132\n",
      "Epoch 5/1000\n",
      "10/10 - 0s - loss: 104.4002 - val_loss: 92.8554\n",
      "Epoch 6/1000\n",
      "10/10 - 0s - loss: 84.3248 - val_loss: 71.1444\n",
      "Epoch 7/1000\n",
      "10/10 - 0s - loss: 77.7647 - val_loss: 68.3640\n",
      "Epoch 8/1000\n",
      "10/10 - 0s - loss: 79.2557 - val_loss: 71.0825\n",
      "Epoch 9/1000\n",
      "10/10 - 0s - loss: 74.3187 - val_loss: 65.3218\n",
      "Epoch 10/1000\n",
      "10/10 - 0s - loss: 71.0231 - val_loss: 64.1426\n",
      "Epoch 11/1000\n",
      "10/10 - 0s - loss: 69.9714 - val_loss: 63.6566\n",
      "Epoch 12/1000\n",
      "10/10 - 0s - loss: 68.2729 - val_loss: 60.6379\n",
      "Epoch 13/1000\n",
      "10/10 - 0s - loss: 66.5891 - val_loss: 59.9225\n",
      "Epoch 14/1000\n",
      "10/10 - 0s - loss: 65.1534 - val_loss: 59.7299\n",
      "Epoch 15/1000\n",
      "10/10 - 0s - loss: 64.4667 - val_loss: 56.7507\n",
      "Epoch 16/1000\n",
      "10/10 - 0s - loss: 62.4664 - val_loss: 57.3791\n",
      "Epoch 17/1000\n",
      "10/10 - 0s - loss: 63.3405 - val_loss: 59.4511\n",
      "Epoch 18/1000\n",
      "10/10 - 0s - loss: 61.0999 - val_loss: 55.1867\n",
      "Epoch 19/1000\n",
      "10/10 - 0s - loss: 59.4186 - val_loss: 54.0423\n",
      "Epoch 20/1000\n",
      "10/10 - 0s - loss: 59.7937 - val_loss: 50.3409\n",
      "Epoch 21/1000\n",
      "10/10 - 0s - loss: 59.2823 - val_loss: 47.3472\n",
      "Epoch 22/1000\n",
      "10/10 - 0s - loss: 57.3558 - val_loss: 51.6512\n",
      "Epoch 23/1000\n",
      "10/10 - 0s - loss: 56.1288 - val_loss: 45.1140\n",
      "Epoch 24/1000\n",
      "10/10 - 0s - loss: 52.3434 - val_loss: 46.3221\n",
      "Epoch 25/1000\n",
      "10/10 - 0s - loss: 55.2640 - val_loss: 55.6754\n",
      "Epoch 26/1000\n",
      "10/10 - 0s - loss: 56.0501 - val_loss: 52.9796\n",
      "Epoch 27/1000\n",
      "10/10 - 0s - loss: 49.3655 - val_loss: 41.5610\n",
      "Epoch 28/1000\n",
      "10/10 - 0s - loss: 46.5981 - val_loss: 39.6135\n",
      "Epoch 29/1000\n",
      "10/10 - 0s - loss: 45.1832 - val_loss: 39.2499\n",
      "Epoch 30/1000\n",
      "10/10 - 0s - loss: 45.9403 - val_loss: 41.9560\n",
      "Epoch 31/1000\n",
      "10/10 - 0s - loss: 43.2011 - val_loss: 36.7631\n",
      "Epoch 32/1000\n",
      "10/10 - 0s - loss: 42.4925 - val_loss: 36.2097\n",
      "Epoch 33/1000\n",
      "10/10 - 0s - loss: 41.3285 - val_loss: 35.0586\n",
      "Epoch 34/1000\n",
      "10/10 - 0s - loss: 39.8129 - val_loss: 34.4824\n",
      "Epoch 35/1000\n",
      "10/10 - 0s - loss: 38.5574 - val_loss: 33.5142\n",
      "Epoch 36/1000\n",
      "10/10 - 0s - loss: 38.2254 - val_loss: 33.2775\n",
      "Epoch 37/1000\n",
      "10/10 - 0s - loss: 38.1421 - val_loss: 31.8167\n",
      "Epoch 38/1000\n",
      "10/10 - 0s - loss: 37.0753 - val_loss: 34.8234\n",
      "Epoch 39/1000\n",
      "10/10 - 0s - loss: 37.5679 - val_loss: 37.5130\n",
      "Epoch 40/1000\n",
      "10/10 - 0s - loss: 38.1246 - val_loss: 46.7386\n",
      "Epoch 41/1000\n",
      "10/10 - 0s - loss: 41.6324 - val_loss: 40.0659\n",
      "Epoch 42/1000\n",
      "10/10 - 0s - loss: 38.3771 - val_loss: 32.6774\n",
      "Restoring model weights from the end of the best epoch.\n",
      "Epoch 00042: early stopping\n"
     ]
    },
    {
     "data": {
      "text/plain": [
       "<keras.callbacks.History at 0x7fd7f8fcf810>"
      ]
     },
     "execution_count": 38,
     "metadata": {},
     "output_type": "execute_result"
    }
   ],
   "source": [
    "model = Sequential()\n",
    "model.add(Dense(25, input_dim=x.shape[1], activation='relu'))\n",
    "model.add(Dense(10, activation='relu'))\n",
    "model.add(Dense(1))\n",
    "model.compile(loss='mean_squared_error', optimizer='adam')\n",
    "\n",
    "monitor = EarlyStopping(monitor='val_loss', min_delta=1e-3, patience=5, verbose=1, mode='auto', restore_best_weights=True)\n",
    "model.fit(x_train, y_train, validation_data=(x_test, y_test), callbacks=[monitor], verbose=2, epochs=1000)"
   ]
  },
  {
   "cell_type": "code",
   "execution_count": 39,
   "metadata": {},
   "outputs": [
    {
     "name": "stdout",
     "output_type": "stream",
     "text": [
      "After the training the score is: 5.6406302096197685\n"
     ]
    }
   ],
   "source": [
    "prediction = model.predict(x_test)\n",
    "score = np.sqrt(metrics.mean_squared_error(prediction, y_test))\n",
    "print(f'After the training the score is: {score}')"
   ]
  },
  {
   "cell_type": "code",
   "execution_count": 40,
   "metadata": {},
   "outputs": [],
   "source": [
    "os.chdir(r'../../all-data/ml')"
   ]
  },
  {
   "cell_type": "code",
   "execution_count": 41,
   "metadata": {},
   "outputs": [
    {
     "data": {
      "text/plain": [
       "'/Users/johnmoses/Workextra/essentials/all-data/ml'"
      ]
     },
     "execution_count": 41,
     "metadata": {},
     "output_type": "execute_result"
    }
   ],
   "source": [
    "os.getcwd()"
   ]
  },
  {
   "cell_type": "code",
   "execution_count": 42,
   "metadata": {},
   "outputs": [],
   "source": [
    "model.save(os.path.join(os.getcwd(), \"mpg_model.h5\"))"
   ]
  },
  {
   "cell_type": "code",
   "execution_count": 43,
   "metadata": {},
   "outputs": [
    {
     "name": "stdout",
     "output_type": "stream",
     "text": [
      "{\n",
      "\"cylinders\":{\"min\": 3, \"max\": 8} ,\n",
      "\"displacement\":{\"min\": 68.0, \"max\": 455.0} ,\n",
      "\"horsepower\":{\"min\": 46.0, \"max\": 230.0} ,\n",
      "\"weight\":{\"min\": 1613, \"max\": 5140} ,\n",
      "\"acceleration\":{\"min\": 8.0, \"max\": 24.8} ,\n",
      "\"year\":{\"min\": 70, \"max\": 82} ,\n",
      "\"origin\":{\"min\": 1, \"max\": 3} \n",
      "}\n"
     ]
    }
   ],
   "source": [
    "cols = [x for x in df.columns if x not in ('mpg', 'name')]\n",
    "cols\n",
    "print(\"{\")\n",
    "for i, name in enumerate(cols):\n",
    "    print(f'\"{name}\":{{\"min\": {df[name].min()}, \"max\": {df[name].max()}}} {\",\" if i<(len(cols)-1) else \"\"}')\n",
    "print(\"}\")"
   ]
  }
 ],
 "metadata": {
  "interpreter": {
   "hash": "dbc0770ecd30f98561162093fd8abab0709c5060f2f81711c403a4cebee6fe13"
  },
  "kernelspec": {
   "display_name": "Python 3.7.11 64-bit ('tf': conda)",
   "name": "python3"
  },
  "language_info": {
   "codemirror_mode": {
    "name": "ipython",
    "version": 3
   },
   "file_extension": ".py",
   "mimetype": "text/x-python",
   "name": "python",
   "nbconvert_exporter": "python",
   "pygments_lexer": "ipython3",
   "version": "3.7.11"
  },
  "orig_nbformat": 4
 },
 "nbformat": 4,
 "nbformat_minor": 2
}
