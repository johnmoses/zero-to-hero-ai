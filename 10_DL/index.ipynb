{
 "cells": [
  {
   "cell_type": "markdown",
   "metadata": {},
   "source": [
    "# Deep Learning\n",
    "\n",
    "- [Introduction](intro.ipynb)\n",
    "- [Multilayer Perceptrons](intro.ipynb)\n",
    "- [Convolutional Neural Networks](intro.ipynb)\n",
    "- [Recurrent Neural Networks](intro.ipynb)"
   ]
  }
 ],
 "metadata": {
  "language_info": {
   "name": "python"
  }
 },
 "nbformat": 4,
 "nbformat_minor": 2
}
