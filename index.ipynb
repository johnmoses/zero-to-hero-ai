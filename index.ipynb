{
 "cells": [
  {
   "cell_type": "markdown",
   "metadata": {},
   "source": [
    "## Zero to Hero in AI\n",
    "- [01 Artificial Intelligence](./01_AI/index.ipynb)\n",
    "- [02 Math for Artificial Intelligence](./02_Math/index.ipynb)\n",
    "- [03 Coding](./03_Coding/index.ipynb)\n",
    "- [04 Algorithms](./04_Algorithms/index.ipynb)\n",
    "- [05 Data](./05_Data/index.ipynb)\n",
    "- [06 Machine Learning](./06_MachineLearning/index.ipynb)\n",
    "- [07 Deep Learning](./07_DeepLearning/index.ipynb)\n",
    "- [08 Optimization](./08_Optimization/index.ipynb)\n",
    "- [09 Natural Language Processing](./09_NaturalLanguageProcessing/index.ipynb)\n",
    "- [10 Generative Adversarial Networks](./10_GAN/index.ipynb)\n",
    "- [11 Performance](./11_Performance/index.ipynb)\n",
    "- [12 Production](./12_Production/index.ipynb)\n",
    "- [13 User Experience](./13_UX/index.ipynb)\n",
    "- [14 Tools](./14_Tools/index.ipynb)"
   ]
  }
 ],
 "metadata": {
  "language_info": {
   "name": "python"
  }
 },
 "nbformat": 4,
 "nbformat_minor": 2
}
