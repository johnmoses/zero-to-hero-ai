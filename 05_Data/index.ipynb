{
 "cells": [
  {
   "cell_type": "markdown",
   "metadata": {},
   "source": [
    "# Data\n",
    "\n",
    "- [Introduction](00-intro.ipynb)\n",
    "- [Data Retrieval](01-retrieval.ipynb)\n",
    "- [Data Manipulation](02-manipulation.ipynb)\n",
    "- [Data Visualization](03-visualization.ipynb)"
   ]
  }
 ],
 "metadata": {
  "language_info": {
   "name": "python"
  }
 },
 "nbformat": 4,
 "nbformat_minor": 2
}
