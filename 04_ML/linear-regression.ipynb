{
 "cells": [
  {
   "cell_type": "markdown",
   "metadata": {},
   "source": [
    "# Linear Regression\n",
    "\n",
    "This is a set of methods for modelling the relationship between one or more independent variables and a dependent variable. This is used in machine learning for prediction.\n",
    "\n",
    "Let us assume that the relationship between the independent variables $\\mathbf{x}$ and dependent variable $y$ is linear, such that y can be expressed as weighted sum of elements in $\\mathbf{x}$, given some noise on the observations. Let us also assume the noise is according to Gaussion distribution.\n",
    "\n",
    "Having $n$ as number of examples in dataset and $i$ as index for each input we will have $\\mathbf{x}^{(i)} = [x_1^{(i)}, x_2^{(i)}]^\\top$ and corresponding label as $y^{(i)}$"
   ]
  },
  {
   "cell_type": "code",
   "execution_count": null,
   "metadata": {},
   "outputs": [],
   "source": []
  }
 ],
 "metadata": {
  "kernelspec": {
   "display_name": "Python 3.9.9 64-bit ('3.9.9')",
   "language": "python",
   "name": "python3"
  },
  "language_info": {
   "name": "python",
   "version": "3.9.9"
  },
  "orig_nbformat": 4,
  "vscode": {
   "interpreter": {
    "hash": "21aa380f16a0108e00536e3e7793513d8af019678eecf9873d21f81a20cdd033"
   }
  }
 },
 "nbformat": 4,
 "nbformat_minor": 2
}
