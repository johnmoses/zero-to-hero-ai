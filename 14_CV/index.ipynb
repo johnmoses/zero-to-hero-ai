{
 "cells": [
  {
   "cell_type": "markdown",
   "metadata": {},
   "source": [
    "# Computer Vision\n",
    "\n",
    "- [Introduction](intro.ipynb)\n",
    "- [OpenCV](intro.ipynb)\n",
    "- [Object Tracking](intro.ipynb)\n",
    "- [Face Detection](intro.ipynb)"
   ]
  }
 ],
 "metadata": {
  "language_info": {
   "name": "python"
  }
 },
 "nbformat": 4,
 "nbformat_minor": 2
}
