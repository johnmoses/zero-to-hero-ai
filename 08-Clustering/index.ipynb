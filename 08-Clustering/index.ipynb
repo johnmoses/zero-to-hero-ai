{
 "cells": [
  {
   "cell_type": "markdown",
   "metadata": {},
   "source": [
    "# Clustering\n",
    "\n",
    "- [Introduction](00-intro.ipynb)\n",
    "- [K-means clustering](00-intro.ipynb)\n",
    "- [Gaussian Mixture Models](00-intro.ipynb)\n",
    "- [Segmentation](00-intro.ipynb)\n",
    "- [K-nearest Neighbours](00-intro.ipynb)"
   ]
  }
 ],
 "metadata": {
  "language_info": {
   "name": "python"
  }
 },
 "nbformat": 4,
 "nbformat_minor": 2
}
