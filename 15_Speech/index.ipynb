{
 "cells": [
  {
   "cell_type": "markdown",
   "metadata": {},
   "source": [
    "# Speech, Audio and Music\n",
    "\n",
    "- [Introduction](intro.ipynb)\n",
    "- [Audio signals](intro.ipynb)\n",
    "- [Generating Musical Sounds](intro.ipynb)\n",
    "- [Automatic Speech Recognition](intro.ipynb)"
   ]
  }
 ],
 "metadata": {
  "language_info": {
   "name": "python"
  }
 },
 "nbformat": 4,
 "nbformat_minor": 2
}
