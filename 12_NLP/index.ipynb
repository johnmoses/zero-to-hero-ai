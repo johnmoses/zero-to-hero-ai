{
 "cells": [
  {
   "cell_type": "markdown",
   "metadata": {},
   "source": [
    "# Natural Language Processing (NLP)\n",
    "\n",
    "- [Introduction](00-intro.ipynb)\n",
    "- [Text Processing Pipelin](00-intro.ipynb)\n",
    "- [Language Modelling](00-intro.ipynb)\n",
    "- [Sentiment Analysis](00-intro.ipynb)\n",
    "- [Chatbots](00-intro.ipynb)"
   ]
  }
 ],
 "metadata": {
  "language_info": {
   "name": "python"
  }
 },
 "nbformat": 4,
 "nbformat_minor": 2
}
