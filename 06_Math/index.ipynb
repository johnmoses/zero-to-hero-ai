{
 "cells": [
  {
   "cell_type": "markdown",
   "metadata": {},
   "source": [
    "# Math for Artificial Intelligence\n",
    "\n",
    "- [Introduction](intro.ipynb)\n",
    "- [Numbers](numbers/index.ipynb)\n",
    "- [Algebra](algebra/index.ipynb)\n",
    "- [Linear Algebra](linear-algebra/index.ipynb)\n",
    "- [Calculus](calculus/index.ipynb)\n",
    "- [Statistics](statistics/index.ipynb)\n",
    "- [Probability](probability/index.ipynb)"
   ]
  }
 ],
 "metadata": {
  "language_info": {
   "name": "python"
  }
 },
 "nbformat": 4,
 "nbformat_minor": 2
}
