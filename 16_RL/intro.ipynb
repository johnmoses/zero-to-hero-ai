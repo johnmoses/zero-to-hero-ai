{
 "cells": [
  {
   "cell_type": "markdown",
   "metadata": {},
   "source": [
    "# Introduction"
   ]
  },
  {
   "cell_type": "markdown",
   "metadata": {},
   "source": [
    "Sometimes we need a machine that can navigate unfamiliar terrains, interract with the environment, make decissions and carry out intelligent actions. Supervised and unsupervised learning cannot accomplish this type.\n",
    "\n",
    "Reinforcement learning algorithms learn to make a sequence of decisions. The algorithm learns to achieve a goal in an uncertain, potentially complex environment. In reinforcement learning, an agent makes decisions by following a policy based on which actions to take, and it learns from the consequences of these actions through rewards or penalties.\n",
    "\n",
    "Q-learning: This is a model-free reinforcement learning algorithm that learns the value of an action in a particular state.\n",
    "\n",
    "Deep Q-Networks (DQN): It combines Q-learning with deep neural networks, allowing the approach to learn successful policies directly from high-dimensional sensory inputs.\n",
    "\n",
    "Policy Gradient Methods: These methods optimize the parameters of a policy directly as opposed to estimating the value of actions.\n",
    "\n",
    "Monte Carlo Tree Search (MCTS): Used in decision processes for finding optimal decisions by playing out scenarios, notably used in games like Go.\n",
    "\n",
    "These categories provide a broad overview of the most common types of machine learning algorithms. Each has its strengths and ideal use cases, making them better suited for certain types of tasks over others."
   ]
  },
  {
   "cell_type": "markdown",
   "metadata": {},
   "source": [
    "## Real-world examples of Reinforcement Learning\n",
    "\n",
    "- Games\n",
    "- Robotics\n",
    "- Industrial Controllers"
   ]
  },
  {
   "cell_type": "markdown",
   "metadata": {},
   "source": [
    "## Creating a environment"
   ]
  },
  {
   "cell_type": "code",
   "execution_count": null,
   "metadata": {},
   "outputs": [],
   "source": [
    "# pip install gym"
   ]
  },
  {
   "cell_type": "markdown",
   "metadata": {},
   "source": [
    "## Building an Agent"
   ]
  }
 ],
 "metadata": {
  "kernelspec": {
   "display_name": "Python 3.9.9 64-bit ('3.9.9')",
   "language": "python",
   "name": "python3"
  },
  "language_info": {
   "name": "python",
   "version": "3.9.9"
  },
  "orig_nbformat": 4,
  "vscode": {
   "interpreter": {
    "hash": "21aa380f16a0108e00536e3e7793513d8af019678eecf9873d21f81a20cdd033"
   }
  }
 },
 "nbformat": 4,
 "nbformat_minor": 2
}
