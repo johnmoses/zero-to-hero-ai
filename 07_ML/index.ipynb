{
 "cells": [
  {
   "cell_type": "markdown",
   "metadata": {},
   "source": [
    "# Machine Learning\n",
    "\n",
    "- [Introduction](intro.ipynb)\n",
    "- [Classification](intro.ipynb)\n",
    "- [Regression](intro.ipynb)\n",
    "- [Decision Trees](intro.ipynb)\n",
    "- [Random Forests](intro.ipynb)\n",
    "- [K-means clustering](intro.ipynb)\n",
    "- [Gaussian Mixture Models](intro.ipynb)\n",
    "- [Segmentation](intro.ipynb)\n",
    "- [K-nearest Neighbours](intro.ipynb)"
   ]
  }
 ],
 "metadata": {
  "language_info": {
   "name": "python"
  }
 },
 "nbformat": 4,
 "nbformat_minor": 2
}
