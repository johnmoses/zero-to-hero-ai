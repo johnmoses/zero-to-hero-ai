{
 "cells": [
  {
   "cell_type": "markdown",
   "metadata": {},
   "source": [
    "## Zero to Hero in AI\n",
    "- 01 Introduction\n",
    "- 02 Math for Artificial Intelligence\n",
    "- 03 Coding\n",
    "- 04 Algorithms\n",
    "- 05 Data Science\n",
    "- 06 Machine Learning\n",
    "- 07 Deep Learning\n",
    "- 08 Optimization\n",
    "- 09 Natural Language Processing\n",
    "- 10 Generative Adversarial Networks\n",
    "- 11 Performance\n",
    "- 12 Production\n",
    "- 13 User Experience\n",
    "- 14 Tools"
   ]
  }
 ],
 "metadata": {
  "language_info": {
   "name": "python"
  }
 },
 "nbformat": 4,
 "nbformat_minor": 2
}
