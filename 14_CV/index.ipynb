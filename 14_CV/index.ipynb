{
 "cells": [
  {
   "cell_type": "markdown",
   "metadata": {},
   "source": [
    "# Computer Vision\n",
    "\n",
    "- [Introduction](00-intro.ipynb)\n",
    "- [OpenCV](00-intro.ipynb)\n",
    "- [Object Tracking](00-intro.ipynb)\n",
    "- [Face Detection](00-intro.ipynb)"
   ]
  }
 ],
 "metadata": {
  "language_info": {
   "name": "python"
  }
 },
 "nbformat": 4,
 "nbformat_minor": 2
}
