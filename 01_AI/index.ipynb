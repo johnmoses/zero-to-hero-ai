{
 "cells": [
  {
   "cell_type": "markdown",
   "metadata": {},
   "source": [
    "# Artificial Intelligence \n",
    "\n",
    "- [Introduction](00-intro.ipynb)\n",
    "- [Branches of AI](00-intro.ipynb)\n",
    "- [Student Recommender System](01-recommender.ipynb)\n",
    "- [Setting up your workspace](00-intro.ipynb)"
   ]
  }
 ],
 "metadata": {
  "language_info": {
   "name": "python"
  }
 },
 "nbformat": 4,
 "nbformat_minor": 2
}
