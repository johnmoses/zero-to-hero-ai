{
 "cells": [
  {
   "cell_type": "markdown",
   "metadata": {},
   "source": [
    "# Clustering\n",
    "\n",
    "- [Introduction](intro.ipynb)\n",
    "- [K-means clustering](intro.ipynb)\n",
    "- [Gaussian Mixture Models](intro.ipynb)\n",
    "- [Segmentation](intro.ipynb)\n",
    "- [K-nearest Neighbours](intro.ipynb)"
   ]
  }
 ],
 "metadata": {
  "language_info": {
   "name": "python"
  }
 },
 "nbformat": 4,
 "nbformat_minor": 2
}
