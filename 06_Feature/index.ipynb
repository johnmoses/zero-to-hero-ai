{
 "cells": [
  {
   "cell_type": "markdown",
   "metadata": {},
   "source": [
    "# Feature Engineering\n",
    "\n",
    "- [Introduction](00-intro.ipynb)\n",
    "- [Feature Selection](00-intro.ipynb)\n",
    "- [Feature Engineering](00-intro.ipynb)\n",
    "- [Feature Scalling](00-intro.ipynb)"
   ]
  }
 ],
 "metadata": {
  "language_info": {
   "name": "python"
  }
 },
 "nbformat": 4,
 "nbformat_minor": 2
}
