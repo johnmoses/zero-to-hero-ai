{
 "cells": [
  {
   "cell_type": "code",
   "execution_count": 1,
   "source": [
    "# Import required libraries\n",
    "import random\n",
    "import datetime\n",
    "import numpy as np\n",
    "import pandas as pd\n",
    "from random import randrange\n",
    "from sklearn import preprocessing\n",
    "from IPython.display import display\n",
    "\n",
    "pd.options.mode.chained_assignment = None"
   ],
   "outputs": [],
   "metadata": {}
  },
  {
   "cell_type": "code",
   "execution_count": 4,
   "source": [
    "# Utilities\n",
    "def _random_date(start, date_count):\n",
    "    current = start\n",
    "    while date_count > 0:\n",
    "        curr = current + datetime.timedelta(days=randrange(42))\n",
    "        yield curr\n",
    "        date_count-=1\n",
    "\n",
    "def generate_sample_data(row_count=100):\n",
    "    # sentinels\n",
    "    startDate = datetime.date(2016, 1, 13)\n",
    "    serial_number_sentinel = 1000\n",
    "    user_id_sentinel = 5001\n",
    "    product_id_sentinel = 101\n",
    "    price_sentinel = 2000\n",
    "\n",
    "    # base list of attributes\n",
    "    data_dict = {\n",
    "        'Serial No:': np.arange(row_count)+serial_number_sentinel,\n",
    "        'Date': np.random.permutation(pd.to_datetime([x.strftime(\"%d-%m-%Y\") for x in _random_date(startDate, row_count)]).date),\n",
    "        'User ID': np.random.permutation(np.random.randint(0, row_count, size=int(row_count/10)) + user_id_sentinel).tolist()*10,\n",
    "        # 'Product ID': np.random.permutation(np.random.randint(0, row_count, size=row_count/10)) + product_id_sentinel).tolist()*10,\n",
    "    }"
   ],
   "outputs": [],
   "metadata": {}
  }
 ],
 "metadata": {
  "orig_nbformat": 4,
  "language_info": {
   "name": "python",
   "version": "3.9.1",
   "mimetype": "text/x-python",
   "codemirror_mode": {
    "name": "ipython",
    "version": 3
   },
   "pygments_lexer": "ipython3",
   "nbconvert_exporter": "python",
   "file_extension": ".py"
  },
  "kernelspec": {
   "name": "python3",
   "display_name": "Python 3.9.1 64-bit ('mconda': pyenv)"
  },
  "interpreter": {
   "hash": "c12063b803eadafac5d97c479bc1095ed876a345c2e55873e3da3e2ea006bdc8"
  }
 },
 "nbformat": 4,
 "nbformat_minor": 2
}