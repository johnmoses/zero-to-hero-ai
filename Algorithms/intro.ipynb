{
 "cells": [
  {
   "cell_type": "markdown",
   "metadata": {},
   "source": [
    "# Algorithms\n",
    "\n",
    "An algorithm is a set of step-by-step instructions to solve a given problem or achieve a specific goal.\n",
    "\n",
    "We will start with a simple example of fibonacci numbers. The two first Fibonacci numbers are 0 and 1, and the next Fibonacci number is always the sum of the two previous numbers"
   ]
  },
  {
   "cell_type": "code",
   "execution_count": 5,
   "metadata": {},
   "outputs": [
    {
     "name": "stdout",
     "output_type": "stream",
     "text": [
      "1 2 3 5 8 13 21 34 55 89 \n"
     ]
    }
   ],
   "source": [
    "n = 10\n",
    "num1 = 0    # Previous 1\n",
    "num2 = 1    # Previous 2\n",
    "next_number = num2  \n",
    "count = 1\n",
    "\n",
    "while count <= n:\n",
    "    print(next_number, end=\" \")\n",
    "    count += 1\n",
    "    num1, num2 = num2, next_number\n",
    "    next_number = num1 + num2\n",
    "print()"
   ]
  },
  {
   "cell_type": "code",
   "execution_count": 6,
   "metadata": {},
   "outputs": [
    {
     "name": "stdout",
     "output_type": "stream",
     "text": [
      "1\n",
      "2\n",
      "3\n",
      "5\n",
      "8\n",
      "13\n",
      "21\n",
      "34\n",
      "55\n",
      "89\n"
     ]
    }
   ],
   "source": [
    "count = 1\n",
    "\n",
    "def fibonacci(prev1, prev2):\n",
    "    global count\n",
    "    if count <= 10:\n",
    "        next_num = prev1 + prev2\n",
    "        print(next_num)\n",
    "        prev2 = prev1\n",
    "        prev1 = next_num\n",
    "        count += 1\n",
    "        fibonacci(prev1, prev2)\n",
    "    else:\n",
    "        return\n",
    "\n",
    "prev1 = 1\n",
    "prev2 = 0\n",
    "fibonacci(prev1, prev2)"
   ]
  }
 ],
 "metadata": {
  "kernelspec": {
   "display_name": "Python 3",
   "language": "python",
   "name": "python3"
  },
  "language_info": {
   "codemirror_mode": {
    "name": "ipython",
    "version": 3
   },
   "file_extension": ".py",
   "mimetype": "text/x-python",
   "name": "python",
   "nbconvert_exporter": "python",
   "pygments_lexer": "ipython3",
   "version": "3.9.19"
  }
 },
 "nbformat": 4,
 "nbformat_minor": 2
}
