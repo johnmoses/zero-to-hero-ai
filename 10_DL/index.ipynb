{
 "cells": [
  {
   "cell_type": "markdown",
   "metadata": {},
   "source": [
    "# Deep Learning\n",
    "\n",
    "- [Introduction](00-intro.ipynb)\n",
    "- [Multilayer Perceptrons](00-intro.ipynb)\n",
    "- [Convolutional Neural Networks](00-intro.ipynb)\n",
    "- [Recurrent Neural Networks](00-intro.ipynb)"
   ]
  }
 ],
 "metadata": {
  "language_info": {
   "name": "python"
  }
 },
 "nbformat": 4,
 "nbformat_minor": 2
}
