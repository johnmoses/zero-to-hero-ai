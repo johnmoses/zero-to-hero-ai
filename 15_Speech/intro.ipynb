{
 "cells": [
  {
   "cell_type": "markdown",
   "metadata": {},
   "source": [
    "# Introduction"
   ]
  },
  {
   "cell_type": "markdown",
   "metadata": {},
   "source": [
    "Transcribing spoken words into written words has been one of the earliest goals of computer language processing. The main task of Automatic Speech Recognition (ASR) here is to map any waveform into appropriate strings of words. Speech has therefore become a natural interface for communicating with smart home devices, cell phones, personal assistants, sophisticated dialogue systems and transcribing."
   ]
  },
  {
   "cell_type": "markdown",
   "metadata": {},
   "source": [
    "Text-To-Speech also known as speech synthesis is the reverse or opposite of Automatic Speech Recognition (ASR). It is applied variously in conversational agents dialogues, reading text aloud\n",
    "\n",
    "## Preprocessing: Text Normalization\n",
    "\n",
    "## Spectrogram Prediction\n",
    "\n",
    "## Vocoding\n",
    "\n",
    "## Evaluation"
   ]
  },
  {
   "cell_type": "code",
   "execution_count": null,
   "metadata": {},
   "outputs": [],
   "source": []
  }
 ],
 "metadata": {
  "kernelspec": {
   "display_name": "Python 3.9.9 64-bit ('3.9.9')",
   "language": "python",
   "name": "python3"
  },
  "language_info": {
   "name": "python",
   "version": "3.9.9"
  },
  "orig_nbformat": 4,
  "vscode": {
   "interpreter": {
    "hash": "21aa380f16a0108e00536e3e7793513d8af019678eecf9873d21f81a20cdd033"
   }
  }
 },
 "nbformat": 4,
 "nbformat_minor": 2
}
