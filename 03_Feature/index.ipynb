{
 "cells": [
  {
   "cell_type": "markdown",
   "metadata": {},
   "source": [
    "# Feature Engineering\n",
    "\n",
    "- [Introduction](intro.ipynb)\n",
    "- [Feature Selection](intro.ipynb)\n",
    "- [Feature Engineering](intro.ipynb)\n",
    "- [Feature Scalling](intro.ipynb)"
   ]
  }
 ],
 "metadata": {
  "language_info": {
   "name": "python"
  }
 },
 "nbformat": 4,
 "nbformat_minor": 2
}
