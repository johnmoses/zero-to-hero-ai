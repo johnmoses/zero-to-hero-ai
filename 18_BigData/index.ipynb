{
 "cells": [
  {
   "cell_type": "markdown",
   "metadata": {},
   "source": [
    "# Big Data\n",
    "\n",
    "- [Introduction](00-intro.ipynb)\n",
    "- [Apache Spark](00-intro.ipynb)\n",
    "- [NoSQL Databases](00-intro.ipynb)"
   ]
  }
 ],
 "metadata": {
  "language_info": {
   "name": "python"
  }
 },
 "nbformat": 4,
 "nbformat_minor": 2
}
