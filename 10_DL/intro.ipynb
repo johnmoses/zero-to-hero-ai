{
 "cells": [
  {
   "cell_type": "markdown",
   "metadata": {},
   "source": [
    "# Introduction\n",
    "\n",
    "Deep Learning is a subfield of machine learning that consists of algorithms that mimic how a human or animal brain functions in terms of neurons, perceptrons and all the like.The computer does this by exploring and discovering hidden patterns and correlations in raw data using algorithms. This enables systems to create data clusters and make predictions with great accuracy. \n",
    "\n",
    "Deep learning has ability to ingest and process unstructured data such as text and images. It goes beyond machine learning to eliminate some pre-processing tasks\n",
    "\n",
    "Neural Networks(NN) are machine learning models developed to replicate or mimic the behaviour of neural networks found in human and animal brains. They are also known as Artificial Neural Networks (ANN) or Simulated Neural Networks (SNN). Such networks can be classified based on topologies, data flow, neurons, layers and filters\n",
    "\n",
    "## Neural Network Types\n",
    "\n",
    "- Linear Neural Networks\n",
    "- Multilayer Perceptrons or Feed-forward Networks\n",
    "- Convolutional Neural Networks\n",
    "- Recurrent Neural Networks\n",
    "- Generative Adversarial Networks"
   ]
  },
  {
   "cell_type": "code",
   "execution_count": null,
   "metadata": {},
   "outputs": [],
   "source": []
  }
 ],
 "metadata": {
  "kernelspec": {
   "display_name": "Python 3.9.9 64-bit ('3.9.9')",
   "language": "python",
   "name": "python3"
  },
  "language_info": {
   "name": "python",
   "version": "3.9.9"
  },
  "orig_nbformat": 4,
  "vscode": {
   "interpreter": {
    "hash": "21aa380f16a0108e00536e3e7793513d8af019678eecf9873d21f81a20cdd033"
   }
  }
 },
 "nbformat": 4,
 "nbformat_minor": 2
}
