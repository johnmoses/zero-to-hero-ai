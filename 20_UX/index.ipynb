{
 "cells": [
  {
   "cell_type": "markdown",
   "metadata": {},
   "source": [
    "# User Experience\n",
    "\n",
    "- [Introduction](intro.ipynb)\n",
    "- [Web Frameworks](intro.ipynb)\n",
    "- [Mobile Frameworks](intro.ipynb)"
   ]
  }
 ],
 "metadata": {
  "language_info": {
   "name": "python"
  }
 },
 "nbformat": 4,
 "nbformat_minor": 2
}
