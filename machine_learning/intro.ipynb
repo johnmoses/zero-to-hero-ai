{
 "cells": [
  {
   "cell_type": "markdown",
   "metadata": {},
   "source": [
    "# Machine Learning (ML)"
   ]
  },
  {
   "cell_type": "markdown",
   "metadata": {},
   "source": [
    "Machine Learning (ML) is the study of computer programs called algorithms that can learn from experience\n",
    "\n",
    "## Components of a machine learning system\n",
    "\n",
    "1. Data\n",
    "2. Model that helps us transform data\n",
    "3. Objective function that evaluates and quantifies how well or badly the outcome does\n",
    "4. Algorithm to adjust the model's parameters to optimize the objective function\n",
    "\n",
    "## Typical machine learning tasks\n",
    "Some of the typical machine learning tasks include classification or categorization, regression, anomaly detection, structured annotation, translation, clustering or grouping, and transcription\n",
    "\n",
    "## Types of Machine Learning\n",
    "Machine learning has several algorithms, methodologies and techniques for solving problems. Broad categories and bases are below\n",
    "- Based on human supervision and involvement\n",
    "    1. Supervised learning: classification, regression\n",
    "    2. Unsupervised learning: clustering, dimensionality reduction, anomaly detection, association-rule mining\n",
    "    3. Semi-supervised learning\n",
    "    4. Reinforcement learning\n",
    "\n",
    "- Based on ability to learn from incremental data samples\n",
    "    1. Batch learning\n",
    "    2. Online learning\n",
    "\n",
    "- Based on approach to generalization from data samples\n",
    "1. Instance-based learning\n",
    "2. Model-based learning\n",
    "\n",
    "## Data Mining process\n",
    "Standard processes required in machine learning includes the following\n",
    "- Business understanding\n",
    "- Data understanding\n",
    "- Data preparation\n",
    "- Modelling\n",
    "- Evaluation\n",
    "- Deployment\n",
    "\n",
    "## Machine Learning Pipelines\n",
    "These are isolated processes that provide a kind of road map to the final solution. It is mainly concerned about the general technical processes of data retrieval from datasets, extraction, preparation, modelling, evaluation and deployment, which are actually part of the data mining processes as follows\n",
    "- Data retrieval\n",
    "- Data preparation\n",
    "    1. Data processing and wrangling\n",
    "    2. Feature extraction and engineering\n",
    "    3. Feature scaling and selection\n",
    "- Modelling\n",
    "- Model evaluation and tunning\n",
    "- Deployment and monitoring\n",
    "\n",
    "## Terminologies and Notations\n",
    "\n",
    "## Roadmaps for building machine learning systems\n"
   ]
  },
  {
   "cell_type": "markdown",
   "metadata": {},
   "source": [
    "Supervised learning is a type of machine learning algorithms where we used labeled dataset to train the model or algorithms. The goal of the algorithm is to learn a mapping from the input data to the output labels, allowing it to make predictions or classifications on new, unseen data."
   ]
  },
  {
   "cell_type": "markdown",
   "metadata": {},
   "source": [
    "Unsupervised Learning is a type of machine learning algorithms where the algorithms are used to find the patterns, structure or relationship within a dataset using unlabled dataset. It explores the data’s inherent structure without predefined categories or labels"
   ]
  },
  {
   "cell_type": "markdown",
   "metadata": {},
   "source": [
    "Reinforcement Learning is a type of machine learning algorithms where an agent learns to make successive decisions by interacting with its surroundings. The agent receives the feedback in the form of incentives or punishments based on its actions. The agent’s purpose is to discover optimal tactics that maximize cumulative rewards over time through trial and error. Reinforcement learning is frequently employed in scenarios in which the agent must learn how to navigate an environment, play games, manage robots, or make judgments in uncertain situations"
   ]
  }
 ],
 "metadata": {
  "kernelspec": {
   "display_name": "Python 3.9.9 64-bit ('3.9.9')",
   "language": "python",
   "name": "python3"
  },
  "language_info": {
   "name": "python",
   "version": "3.9.9"
  },
  "orig_nbformat": 4,
  "vscode": {
   "interpreter": {
    "hash": "21aa380f16a0108e00536e3e7793513d8af019678eecf9873d21f81a20cdd033"
   }
  }
 },
 "nbformat": 4,
 "nbformat_minor": 2
}
