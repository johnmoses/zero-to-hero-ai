{
 "cells": [
  {
   "cell_type": "markdown",
   "metadata": {},
   "source": [
    "# Introduction\n",
    "\n",
    "## Functions\n",
    "A Function is a mapping between and input set and an output set. An element of the output set is related to exactly one element of the output set for example f(x) = x2\n",
    "\n",
    "## Domain and range of a function\n",
    "A domain is the set of input values that independent variables can validly assume. The range is the output set\n",
    "\n",
    "## Rate of Change\n",
    "\n",
    "## Limits\n",
    "\n",
    "## Differentiation and Derivatives\n",
    "\n",
    "## Critical Points\n",
    "\n",
    "## Partial Derivatives\n",
    "\n",
    "## Integration\n",
    "\n",
    "## Differential Calculus\n",
    "This is the study of continuous change. It has two subfields namely differential calculus which studies the rate of change of functions and integral calculus which studies the area under the curve. Differential calculus is the core of Deep Learning\n",
    "\n",
    "## Vector Calculus\n",
    "\n",
    "## References\n",
    "- Python math chapter 7\n",
    "- Hands-on ML"
   ]
  },
  {
   "cell_type": "code",
   "execution_count": 1,
   "metadata": {},
   "outputs": [
    {
     "name": "stdout",
     "output_type": "stream",
     "text": [
      "0\n"
     ]
    }
   ],
   "source": [
    "# Calculus from python math chapter 7\n",
    "# find a limit\n",
    "from sympy import Limit, Symbol, S\n",
    "\n",
    "x = Symbol('x')\n",
    "limit = Limit(1/x, x, S.Infinity).doit()\n",
    "print(limit)"
   ]
  },
  {
   "cell_type": "code",
   "execution_count": 2,
   "metadata": {},
   "outputs": [
    {
     "name": "stdout",
     "output_type": "stream",
     "text": [
      "-oo\n",
      "oo\n"
     ]
    }
   ],
   "source": [
    "# Specify direction of limit\n",
    "limit_direction = Limit(1/x, x, 0, dir='-').doit()\n",
    "\n",
    "# negative\n",
    "limit_direction_positive = Limit(1/x, x, 0, dir='+').doit()\n",
    "print(limit_direction)\n",
    "print(limit_direction_positive)"
   ]
  },
  {
   "cell_type": "code",
   "execution_count": 3,
   "metadata": {},
   "outputs": [
    {
     "name": "stdout",
     "output_type": "stream",
     "text": [
      "1\n"
     ]
    }
   ],
   "source": [
    "# Indeterminate limit example\n",
    "from sympy import sin\n",
    "\n",
    "i_limit = Limit(sin(x)/x, x, 0).doit()\n",
    "print(i_limit)"
   ]
  },
  {
   "cell_type": "code",
   "execution_count": 4,
   "metadata": {},
   "outputs": [
    {
     "name": "stdout",
     "output_type": "stream",
     "text": [
      "p*exp(r*t)\n"
     ]
    }
   ],
   "source": [
    "# Continuous compound interest\n",
    "n = Symbol('n')\n",
    "p = Symbol('p', positive=True)\n",
    "r = Symbol('r', positive=True)\n",
    "t = Symbol('t', positive=True)\n",
    "c_interest = Limit(p*(1+r/n)**(n*t), n, S.Infinity).doit()\n",
    "print(c_interest)"
   ]
  },
  {
   "cell_type": "code",
   "execution_count": 5,
   "metadata": {},
   "outputs": [
    {
     "name": "stdout",
     "output_type": "stream",
     "text": [
      "10*t1 + 2\n"
     ]
    }
   ],
   "source": [
    "# Instantaneous rate of change\n",
    "t = Symbol('t')\n",
    "St = 5*t**2 + 2*t + 8\n",
    "t1 = Symbol('t1')\n",
    "delta_t = Symbol('delta_t')\n",
    "St1 = St.subs({t: t1})\n",
    "St1_delta = St.subs({t: t1 + delta_t})\n",
    "ins_rate = Limit((St1_delta-St1)/delta_t, delta_t, 0).doit()\n",
    "print(ins_rate)"
   ]
  },
  {
   "cell_type": "code",
   "execution_count": 6,
   "metadata": {},
   "outputs": [
    {
     "name": "stdout",
     "output_type": "stream",
     "text": [
      "(2*x + 1)*(x**3 + x**2 + x) + (x**2 + x)*(3*x**2 + 2*x + 1)\n"
     ]
    }
   ],
   "source": [
    "# Finding derivative of a complicated arbitrary function\n",
    "from sympy import Derivative\n",
    "\n",
    "x = Symbol('x')\n",
    "f = (x**3 + x**2 + x)*(x**2+x)\n",
    "derv = Derivative(f, x).doit()\n",
    "print(derv)"
   ]
  },
  {
   "cell_type": "code",
   "execution_count": 7,
   "metadata": {},
   "outputs": [
    {
     "name": "stdout",
     "output_type": "stream",
     "text": [
      "Invalid input\n"
     ]
    }
   ],
   "source": [
    "# Calculate derivative\n",
    "from sympy import sympify, pprint\n",
    "from sympy.core.sympify import  SympifyError\n",
    "\n",
    "def derivative(f, var):\n",
    "    var = Symbol(var)\n",
    "    d = Derivative(f, var).doit()\n",
    "    pprint(d)\n",
    "\n",
    "if __name__ == '__main__':\n",
    "    f = input('Enter a function: ') # 2*x**2 + 3*x + 1\n",
    "    var = input('Enter the variable to differentiate with respect to: ') # 4.x + 3\n",
    "    try:\n",
    "        f = sympify(f)\n",
    "    except SympifyError:\n",
    "        print('Invalid input')\n",
    "    else:\n",
    "        derivative(f, var)"
   ]
  },
  {
   "cell_type": "code",
   "execution_count": 8,
   "metadata": {},
   "outputs": [
    {
     "name": "stdout",
     "output_type": "stream",
     "text": [
      "Theta: 44.997815081691805\n",
      "Maximum Range: 63.7755100185965\n"
     ]
    }
   ],
   "source": [
    "# Use gradient ascent to find the angle at which a projectile has a max range\n",
    "import math\n",
    "from sympy import Derivative, Symbol, sin\n",
    "def grad_ascent(x0, f1x, x):\n",
    "    epsilon = 1e-6\n",
    "    step_size = 1e-4\n",
    "    x_old = x0\n",
    "    x_new = x_old + step_size*f1x.subs({x:x_old}).evalf()\n",
    "    while abs(x_old - x_new) > epsilon:\n",
    "        x_old = x_new\n",
    "        x_new = x_old + step_size*f1x.subs({x:x_old}).evalf()\n",
    "    return x_new\n",
    "\n",
    "def find_max_theta(R, theta):\n",
    "    R1theta = Derivative(R, theta).doit()\n",
    "    theta0 = 1e-3\n",
    "    theta_max = grad_ascent(theta0, R1theta, theta)\n",
    "    return theta_max\n",
    "\n",
    "if __name__ == '__main__':\n",
    "    g = 9.8\n",
    "    # asume initial velocity\n",
    "    u = 25\n",
    "    # expression for range\n",
    "    theta = Symbol('theta')\n",
    "    R = u**2*sin(2*theta)/g\n",
    "    theta_max = find_max_theta(R, theta)\n",
    "    print('Theta: {0}'.format(math.degrees(theta_max)))\n",
    "    print('Maximum Range: {0}'.format(R.subs({theta:theta_max})))"
   ]
  },
  {
   "cell_type": "code",
   "execution_count": 7,
   "metadata": {},
   "outputs": [
    {
     "data": {
      "image/png": "[encoded data removed]",
      "text/plain": [
       "<Figure size 432x288 with 1 Axes>"
      ]
     },
     "metadata": {
      "needs_background": "light"
     },
     "output_type": "display_data"
    },
    {
     "name": "stdout",
     "output_type": "stream",
     "text": [
      "Theta: 44.997815081691805, Max. Range: 57.1394215709871\n"
     ]
    }
   ],
   "source": [
    "# Find the angle at maximum range or projectile\n",
    "import math\n",
    "import matplotlib.pyplot as plt\n",
    "from sympy import Derivative, Symbol, sin, cos, solve\n",
    "\n",
    "def plot_range_theta(u):\n",
    "    g = 9.8\n",
    "    angles = range(0, 90, 1)\n",
    "    R = [u**2*math.sin(math.radians(2*angle))/g for angle in angles]\n",
    "    plt.plot(angles, R)\n",
    "    # use LaTex for x-axis label\n",
    "    plt.plot(angles, R)\n",
    "    plt.ylabel('R: Distance travelled by projectile(meters)')\n",
    "\n",
    "def grad_ascent(x0, f1x):\n",
    "    theta = Symbol('theta')\n",
    "    epsilon = 1e-6\n",
    "    step_size  = 1e-4\n",
    "    x_old = x0\n",
    "    x_new = x_old + step_size*f1x.subs({theta:x_old}).evalf()\n",
    "\n",
    "    X = []\n",
    "    while abs(x_old - x_new) > epsilon:\n",
    "        X.append(x_new)\n",
    "        x_old = x_new\n",
    "        x_new = x_old + step_size*f1x.subs({theta:x_old}).evalf()\n",
    "    return x_new, X\n",
    "\n",
    "def find_max_theta(R, theta):\n",
    "    # calculate the first derivative\n",
    "    R1theta = Derivative(R, theta).doit()\n",
    "    theta0 = 1e-3\n",
    "    theta_max, X = grad_ascent(0.001, R1theta)\n",
    "    return math.degrees(theta_max.evalf()), X\n",
    "\n",
    "if __name__ == '__main__':\n",
    "    g = 9.8\n",
    "    # assume initial velicity\n",
    "    u = 25\n",
    "    plot_range_theta(u)\n",
    "    theta = Symbol('theta')\n",
    "\n",
    "    # Expression for range\n",
    "    R = u**2*sin(2*theta)/g\n",
    "    theta_max, X = find_max_theta(R, theta)\n",
    "\n",
    "    # Calculate R for all theta's traversed\n",
    "    Y = [u**2*math.sin(2*angle)/g for angle in X]\n",
    "    X = [math.degrees(angle) for angle in X]\n",
    "    plt.plot(X, Y, 'ro')\n",
    "    plt.show()\n",
    "    print('Theta: {0}, Max. Range: {1}'.format(theta_max, R.subs({theta:theta_max})))"
   ]
  },
  {
   "cell_type": "code",
   "execution_count": null,
   "metadata": {},
   "outputs": [],
   "source": [
    "# Generic program for gradient ascent\n",
    "def grad_ascent(x0, f1x, x):\n",
    "    epsilon = 1e-6\n",
    "    step_size = 1e-4\n",
    "    x_old = x0\n",
    "    x_new = x_old + step_size*f1x.subs({x:x_old}).evalf()\n",
    "    while abs(x_old - x_new) > epsilon:\n",
    "        x_old = x_new\n",
    "        x_new = x_old + step_size*f1x.subs({x:x_old}).evalf()\n",
    "    return x_new\n",
    "\n",
    "if __name__ == '__main__':\n",
    "    f = input('Enter a function in one variable') # 25*25*sin(2*theta)/9.8\n",
    "    var = input('Enter the variable to differentiat with respect to') # theta\n",
    "    var0 = float(input('Enter the initial value of the variable')) # 0.001\n",
    "    try:\n",
    "        f = sympify(f)\n",
    "    except SympifyError:\n",
    "        print('Invalid function entered')\n",
    "    else:\n",
    "        var = Symbol(var)\n",
    "        d = Derivative(f, var).doit()\n",
    "        var_max = grad_ascent(var0, d, var)\n",
    "        print('{0}: {1}'.format(var.name, var_max))\n",
    "        print('Maximum value: {0}'.format(f.subs({var:var_max})))\n",
    "    "
   ]
  },
  {
   "cell_type": "code",
   "execution_count": 26,
   "metadata": {},
   "outputs": [
    {
     "name": "stdout",
     "output_type": "stream",
     "text": [
      "Cannot continue, solution for 1/x=0 does not ext\n"
     ]
    }
   ],
   "source": [
    "\"\"\" \n",
    "Use gradient ascent to find the maximum value of a single-variable\n",
    "function. This also checks for the existence of a solution\n",
    "for the equation f'(x)=0\n",
    "\"\"\"\n",
    "from sympy import Derivative, Symbol, sympify, solve\n",
    "def grad_ascent(x0, f1x, x):\n",
    "    # check if f1x=0 has a solution\n",
    "    if not solve(f1x):\n",
    "        print('Cannot continue, solution for {0}=0 does not ext'.format(f1x))\n",
    "        return\n",
    "    epsilon = 1e-6\n",
    "    setp_size = 1e-4\n",
    "    x_old = x0\n",
    "    x_new = x_old + setp_size*f1x.subs({x:x_old}).evalf()\n",
    "    while abs(x_old - x_new) > epsilon:\n",
    "        x_old = x_new\n",
    "        x_new = x_old + setp_size*f1x.subs({x:x_old}).evalf()\n",
    "    return x_new\n",
    "\n",
    "\n",
    "if __name__ == '__main__':\n",
    "    f = input('Enter a function in one variable: ') # log(x)\n",
    "    var = input('Enter the variable to differentiate with respect to: ') # x\n",
    "    var0 = float(input('Enter the initial value of the variable: ')) # 0.1\n",
    "    try:\n",
    "        f = sympify(f)\n",
    "    except SympifyError:\n",
    "        print('Invalid function entered')\n",
    "    else:\n",
    "        var = Symbol(var)\n",
    "        d = Derivative(f, var).doit()\n",
    "        var_max = grad_ascent(var0, d, var)\n",
    "        if var_max:\n",
    "            print('{0}: {1}'.format(f.subs({var:var_max})))\n"
   ]
  }
 ],
 "metadata": {
  "interpreter": {
   "hash": "3067ead486e059ec00ffe7555bdb889e6e264a24dc711bf108106cc7baee8d5d"
  },
  "kernelspec": {
   "display_name": "Python 3.8.8 64-bit ('base': conda)",
   "name": "python3"
  },
  "language_info": {
   "codemirror_mode": {
    "name": "ipython",
    "version": 3
   },
   "file_extension": ".py",
   "mimetype": "text/x-python",
   "name": "python",
   "nbconvert_exporter": "python",
   "pygments_lexer": "ipython3",
   "version": "3.9.7"
  },
  "orig_nbformat": 4
 },
 "nbformat": 4,
 "nbformat_minor": 2
}
