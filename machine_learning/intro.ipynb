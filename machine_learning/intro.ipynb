{
 "cells": [
  {
   "cell_type": "markdown",
   "metadata": {},
   "source": [
    "# Machine Learning (ML)\n",
    "\n",
    "Machine Learning (ML) is the ability of computers to learn from data and make predictions without being explicitly programmed. It is a subset of Artificial Intelligence (AI) that uses special computer programs called algorithms to study patterns from datasets and make decisions with little or no human assistance.\n",
    "\n",
    "## Components of a machine learning system\n",
    "\n",
    "1. Data\n",
    "2. Model that helps us transform data\n",
    "3. Objective function that evaluates and quantifies how well or badly the outcome does\n",
    "4. Algorithm to adjust the model's parameters to optimize the objective function\n",
    "\n",
    "## Typical machine learning tasks\n",
    "Some of the typical machine learning tasks include classification or categorization, regression, anomaly detection, structured annotation, translation, clustering or grouping, and transcription"
   ]
  },
  {
   "cell_type": "markdown",
   "metadata": {},
   "source": [
    "## Types of Machine Learning\n",
    "Machine learning has several algorithms, methodologies and techniques for solving problems. Broad categories and bases are below\n",
    "- Based on human supervision and involvement\n",
    "    1. Supervised learning: classification, regression\n",
    "    2. Unsupervised learning: clustering, dimensionality reduction, anomaly detection, association-rule mining\n",
    "    3. Semi-supervised learning\n",
    "    4. Reinforcement learning\n",
    "\n",
    "- Based on ability to learn from incremental data samples\n",
    "    1. Batch learning\n",
    "    2. Online learning\n",
    "\n",
    "- Based on approach to generalization from data samples\n",
    "    1. Instance-based learning\n",
    "    2. Model-based learning"
   ]
  },
  {
   "cell_type": "markdown",
   "metadata": {},
   "source": [
    "## Supervised Learning\n",
    "\n",
    "Supervised learning is a type of machine learning algorithms where we used labeled dataset to train the model or algorithms. The goal of the algorithm is to learn a mapping from the input data to the output labels, allowing it to make predictions or classifications on new, unseen data.\n",
    "\n",
    "There are two main categories of supervised learning, namely Classification and Regression\n",
    "\n",
    "Classification deals with predicting categorical target variables, which represent discrete classes or labels. An example of this kind of task is classification of emails as apam or real. \n",
    "Algorithms in category are \n",
    "1. Logistic Regression\n",
    "2. Support Vector Machine\n",
    "3. Random Forest\n",
    "4. Decision Tree\n",
    "5. K-Nearest Neighbors (KNN)\n",
    "6. Naive Bayes\n",
    "\n",
    "Regression deals with predicting continuous target variables, which represent numerical values. An example is prediction of house prices. \n",
    "Algorithms here include:\n",
    "1. Linear Regression\n",
    "2. Polynomial Regression\n",
    "3. Ridge Regression\n",
    "4. Lasso Regression\n",
    "5. Decision tree\n",
    "6. Random Forest"
   ]
  },
  {
   "cell_type": "markdown",
   "metadata": {},
   "source": [
    "## Unsupervised Learning\n",
    "\n",
    "Unsupervised Learning is a type of machine learning algorithms where the algorithms are used to find the patterns, structure or relationship within a dataset using unlabled dataset. It explores the data’s inherent structure without predefined categories or labels\n",
    "\n",
    "There are two main categories of this type of algorithms including Clustering and Association\n",
    "\n",
    "Clustering groups data points into clusters based on their similarity. \n",
    "Examples here include:\n",
    "1. K-Means Clustering algorithm\n",
    "2. Mean-shift algorithm\n",
    "3. DBSCAN Algorithm\n",
    "4. Principal Component Analysis\n",
    "5. Independent Component Analysis\n",
    "\n",
    "Association is used for discovering relationships between items in a dataset. It identifies rules that indicate the presence of one item implies the presence of another item with a specific probability.\n",
    "Examples include:\n",
    "1. Apriori Algorithm\n",
    "2. Eclat\n",
    "3. FP-growth Algorithm"
   ]
  },
  {
   "cell_type": "markdown",
   "metadata": {},
   "source": [
    "## Semi-supervised Learning\n",
    "\n",
    "This is a type of machine learning method that works between the supervised and unsupervised learning so it uses both labelled and unlabelled data. Most neural networks architectures fall into this category."
   ]
  },
  {
   "cell_type": "markdown",
   "metadata": {},
   "source": [
    "## Reinforcement Learning\n",
    "\n",
    "Reinforcement Learning is a type of machine learning algorithms where an agent learns to make successive decisions by interacting with its surroundings. The agent receives the feedback in the form of incentives or punishments based on its actions. The agent’s purpose is to discover optimal tactics that maximize cumulative rewards over time through trial and error. Reinforcement learning is frequently employed in scenarios in which the agent must learn how to navigate an environment, play games, manage robots, or make judgments in uncertain situations\n",
    "Examples include Q-learning, Deep Q-learning and SARSA (State-Action-Reward-State-Action)\n",
    "\n",
    "Q-learning is a model-free RL algorithm that learns a Q-function, which maps states to actions. The Q-function estimates the expected reward of taking a particular action in a given state\n",
    "\n",
    "Deep Q-learning is a combination of Q-learning and deep learning. Deep Q-learning uses a neural network to represent the Q-function, which allows it to learn complex relationships between states and actions.\n",
    "\n",
    "SARSA is another model-free RL algorithm that learns a Q-function. However, unlike Q-learning, SARSA updates the Q-function for the action that was actually taken, rather than the optimal action."
   ]
  },
  {
   "cell_type": "markdown",
   "metadata": {},
   "source": [
    "## Batch Learning\n",
    "\n",
    "Batch learning, also termed offline learning, is that type of machine learning where the model undergoes a training process a batch of data. This is done by inputting all available data at once into the learning algorithm during model development and training. The model is later updated whenever there is new data thereby creating a new batch."
   ]
  },
  {
   "cell_type": "markdown",
   "metadata": {},
   "source": [
    "## Online Learning\n",
    "\n",
    "This is an approach in machine learning where the model is updated as new data arrives. Here the model makes a rather continuous or intermittent update with new data or a significant part of it. This has a major advantage of making the model reactive to variations of the data flow and can be implemented easily."
   ]
  },
  {
   "cell_type": "markdown",
   "metadata": {},
   "source": [
    "## Data Mining process\n",
    "Standard processes required in machine learning includes the following\n",
    "- Business understanding\n",
    "- Data understanding\n",
    "- Data preparation\n",
    "- Modelling\n",
    "- Evaluation\n",
    "- Deployment\n",
    "\n",
    "## Machine Learning Pipelines\n",
    "These are isolated processes that provide a kind of road map to the final solution. It is mainly concerned about the general technical processes of data retrieval from datasets, extraction, preparation, modelling, evaluation and deployment, which are actually part of the data mining processes as follows\n",
    "- Data retrieval\n",
    "- Data preparation\n",
    "    1. Data processing and wrangling\n",
    "    2. Feature extraction and engineering\n",
    "    3. Feature scaling and selection\n",
    "- Modelling\n",
    "- Model evaluation and tunning\n",
    "- Deployment and monitoring"
   ]
  }
 ],
 "metadata": {
  "kernelspec": {
   "display_name": "Python 3.9.9 64-bit ('3.9.9')",
   "language": "python",
   "name": "python3"
  },
  "language_info": {
   "name": "python",
   "version": "3.9.9"
  },
  "orig_nbformat": 4,
  "vscode": {
   "interpreter": {
    "hash": "21aa380f16a0108e00536e3e7793513d8af019678eecf9873d21f81a20cdd033"
   }
  }
 },
 "nbformat": 4,
 "nbformat_minor": 2
}
