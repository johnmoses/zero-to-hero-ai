{
 "cells": [
  {
   "cell_type": "markdown",
   "metadata": {},
   "source": [
    "# Introduction\n",
    "Data analysis and interpretation is central in statistics. Statistical approaches have a core objective, namely, understanding data distribution in a sample."
   ]
  },
  {
   "cell_type": "markdown",
   "metadata": {},
   "source": [
    "## Types of Data\n",
    "There are two broad categories of data namely, qualitative data and quantitative data. \n",
    "\n",
    "Qualitative data is categorical in the sense that it is based on observed common attributes accross a dataset\n",
    "\n",
    "Quantitative data is the type that comes from real quantities or measurements"
   ]
  },
  {
   "cell_type": "markdown",
   "metadata": {},
   "source": [
    "## Other topics\n",
    "Describing a single set of data\n",
    "\n",
    "Dispersion\n",
    "\n",
    "Correlation\n",
    "\n",
    "Simpson's Paradox\n",
    "\n",
    "Correlation and Causation"
   ]
  }
 ],
 "metadata": {
  "kernelspec": {
   "display_name": "Python 3.9.7 ('base')",
   "language": "python",
   "name": "python3"
  },
  "language_info": {
   "codemirror_mode": {
    "name": "ipython",
    "version": 3
   },
   "file_extension": ".py",
   "mimetype": "text/x-python",
   "name": "python",
   "nbconvert_exporter": "python",
   "pygments_lexer": "ipython3",
   "version": "3.9.7"
  },
  "orig_nbformat": 4,
  "vscode": {
   "interpreter": {
    "hash": "3067ead486e059ec00ffe7555bdb889e6e264a24dc711bf108106cc7baee8d5d"
   }
  }
 },
 "nbformat": 4,
 "nbformat_minor": 2
}
