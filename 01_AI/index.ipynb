{
 "cells": [
  {
   "cell_type": "markdown",
   "metadata": {},
   "source": [
    "# Artificial Intelligence \n",
    "\n",
    "- [Introduction](intro.ipynb)\n",
    "- [Branches of AI](intro.ipynb)\n",
    "- [Student Recommender System](recommender.ipynb)"
   ]
  }
 ],
 "metadata": {
  "language_info": {
   "name": "python"
  }
 },
 "nbformat": 4,
 "nbformat_minor": 2
}
