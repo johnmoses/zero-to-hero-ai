{
 "cells": [
  {
   "cell_type": "markdown",
   "metadata": {},
   "source": [
    "# Sequential Data and Time Series\n",
    "\n",
    "- [Introduction](intro.ipynb)\n",
    "- [Pandas with Time Series](intro.ipynb)\n",
    "- [Hidden Markov Data Generation](intro.ipynb)\n",
    "- [Stock Market Analysis](intro.ipynb)"
   ]
  }
 ],
 "metadata": {
  "language_info": {
   "name": "python"
  }
 },
 "nbformat": 4,
 "nbformat_minor": 2
}
