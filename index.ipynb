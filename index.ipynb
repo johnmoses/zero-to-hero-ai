{
 "cells": [
  {
   "cell_type": "markdown",
   "metadata": {},
   "source": [
    "## Zero to Hero in AI\n",
    "<!-- - [01 Artificial Intelligence](./01_AI/index.ipynb)\n",
    "- [02 Preliminary](./02_Preliminary/index.ipynb)\n",
    "- [03 Data](./03_Data/index.ipynb)\n",
    "- [04 Machine Learning](./04_ML/index.ipynb)\n",
    "- [05 Recommender Systems](./05_Recommenders/index.ipynb)\n",
    "- [06 Reinforcement Learning](./06_RL/index.ipynb)\n",
    "- [07 Neural Networks](./07_NN/index.ipynb)\n",
    "- [08 Multilayer Perceptrons](./08_MLP/index.ipynb)\n",
    "- [09 Convolutional Neural Networks](./09_CNN/index.ipynb)\n",
    "- [10 Computer Vision](./10_CV/index.ipynb)\n",
    "- [11 Recurrent Neural Networks](./11_RNN/index.ipynb)\n",
    "- [12 Sequential Data](./12_Sequential/index.ipynb)\n",
    "- [13 Natural Language Processing](./13_NLP/index.ipynb)\n",
    "- [14 Chatbots](./14_Chatbots/index.ipynb)\n",
    "- [15 Speech, Audio and Music](./15_Speech/index.ipynb)\n",
    "- [16 Transformers](./16_Transformers/index.ipynb)\n",
    "- [17 Optimization](./17_Optimization/index.ipynb)\n",
    "- [18 Generative Adversarial Networks](./18_GAN/index.ipynb)\n",
    "- [19 Large Language Models](./19_LLM/index.ipynb)\n",
    "- [20 Big Data](./20_BigData/index.ipynb)\n",
    "- [21 Production](./21_Production/index.ipynb) -->"
   ]
  }
 ],
 "metadata": {
  "language_info": {
   "name": "python"
  }
 },
 "nbformat": 4,
 "nbformat_minor": 2
}
