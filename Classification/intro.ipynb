{
 "cells": [
  {
   "cell_type": "markdown",
   "metadata": {},
   "source": [
    "# Classification"
   ]
  },
  {
   "cell_type": "markdown",
   "metadata": {},
   "source": [
    "Classification is a supervised learning task that helps the machine to group things into sub-categories based on their features.\n",
    "\n",
    "## Types of classifications\n",
    "There are two broad classes, namely, binary classification and multi-class classification. \n",
    "\n",
    "Binary classification seeks to classify the input into one of two classes or categories\n",
    "\n",
    "Multi-class classification seeks to classify the input into one of several classes or categories.\n",
    "\n",
    "## Classification Algorithms\n",
    "Classification algorithms are the algorithms used for classification tasks.\n",
    "\n",
    "There are two major types of classification algorithms, linear and non-linear algorithms\n",
    "\n",
    "Linear classifiers\n",
    "- Logistic Regression\n",
    "- Support Vector Machines having kernel = ‘linear’\n",
    "- Single-layer Perceptron\n",
    "- Stochastic Gradient Descent (SGD) Classifier\n",
    "\n",
    "Non-linear Classifiers\n",
    "- K-Nearest Neighbours\n",
    "- Kernel SVM\n",
    "- Naive Bayes\n",
    "- Decision Tree Classification\n",
    "- Ensemble learning classifiers: \n",
    "- Random Forests, \n",
    "- AdaBoost, \n",
    "- Bagging Classifier, \n",
    "- Voting Classifier, \n",
    "- ExtraTrees Classifier\n",
    "- Multi-layer Artificial Neural Networks"
   ]
  },
  {
   "cell_type": "markdown",
   "metadata": {},
   "source": [
    "Let us try a few of the classifiers and see what they produce"
   ]
  },
  {
   "cell_type": "code",
   "execution_count": 8,
   "metadata": {},
   "outputs": [],
   "source": [
    "import sys; sys.path.append(\"..\")\n",
    "import numpy as np\n",
    "import pandas as pd\n",
    "from sklearn.model_selection import train_test_split\n",
    "from sklearn.metrics import accuracy_score, precision_score, recall_score, f1_score\n",
    "from sklearn import datasets"
   ]
  },
  {
   "cell_type": "markdown",
   "metadata": {},
   "source": [
    "## Dataset\n",
    "\n",
    "Get the datasets and split into train and testing sets"
   ]
  },
  {
   "cell_type": "code",
   "execution_count": 9,
   "metadata": {},
   "outputs": [],
   "source": [
    "iris = datasets.load_iris()\n",
    "X = iris.data\n",
    "y = iris.target\n",
    "\n",
    "\n",
    "X_train, X_test, y_train, y_test = train_test_split(\n",
    "    X, y, test_size=0.3, random_state=1)"
   ]
  },
  {
   "cell_type": "markdown",
   "metadata": {},
   "source": [
    "## Decision tree classifier\n",
    "\n",
    "Decision trees are a type of supervised learning technique that can be used for classification as well as regression. It operates by segmenting the data into smaller and smaller groups until each group can be classified or predicted with high degree of accuracy"
   ]
  },
  {
   "cell_type": "code",
   "execution_count": 10,
   "metadata": {},
   "outputs": [
    {
     "name": "stdout",
     "output_type": "stream",
     "text": [
      "Accuracy:  0.9555555555555556\n",
      "Precision:  0.9555555555555556\n",
      "Recall:  0.9555555555555556\n",
      "F1-Score:  0.9555555555555556\n"
     ]
    }
   ],
   "source": [
    "from sklearn.tree import DecisionTreeClassifier\n",
    "\n",
    "dt = DecisionTreeClassifier(random_state=0)\n",
    "\n",
    "# train the model\n",
    "dt.fit(X_train, y_train)\n",
    "\n",
    "# make predictions\n",
    "dt_pred = dt.predict(X_test)\n",
    "\n",
    "# Print the accuracy\n",
    "print(\"Accuracy: \",\n",
    "      accuracy_score(y_test, dt_pred))\n",
    "print(\"Precision: \",\n",
    "      precision_score(y_test, dt_pred, average='weighted'))\n",
    "print(\"Recall: \",\n",
    "      recall_score(y_test, dt_pred, average='weighted'))\n",
    "print(\"F1-Score: \",\n",
    "      f1_score(y_test, dt_pred, average='weighted'))"
   ]
  },
  {
   "cell_type": "markdown",
   "metadata": {},
   "source": [
    "## Support Vector Machines\n",
    "\n",
    "SVMs are supervised learning algorithms that can perform classification and regression tasks. It finds a hyperplane that best separates classes in feature space."
   ]
  },
  {
   "cell_type": "code",
   "execution_count": 11,
   "metadata": {},
   "outputs": [
    {
     "name": "stdout",
     "output_type": "stream",
     "text": [
      "Accuracy:  1.0\n",
      "Precision:  1.0\n",
      "Recall:  1.0\n",
      "F1-Score:  1.0\n"
     ]
    }
   ],
   "source": [
    "from sklearn import svm\n",
    "\n",
    "svm_clf = svm.SVC(kernel='linear')  # Linear Kernel\n",
    "# train the model\n",
    "svm_clf.fit(X_train, y_train)\n",
    "# make predictions\n",
    "svm_clf_pred = svm_clf.predict(X_test)\n",
    "# print the accuracy\n",
    "print(\"Accuracy: \",\n",
    "      accuracy_score(y_test, svm_clf_pred))\n",
    "# print other performance metrics\n",
    "print(\"Precision: \",\n",
    "      precision_score(y_test, svm_clf_pred, average='weighted'))\n",
    "print(\"Recall: \",\n",
    "      recall_score(y_test, svm_clf_pred, average='weighted'))\n",
    "print(\"F1-Score: \",\n",
    "      f1_score(y_test, svm_clf_pred, average='weighted'))"
   ]
  },
  {
   "cell_type": "markdown",
   "metadata": {},
   "source": [
    "## Gaussian Naive Bayes\n",
    "\n",
    "Naive Bayes is a probabilistic classifier based on Bayes’ theorem that is used for classification tasks. It works by assuming that the features of a data point are independent of each other."
   ]
  },
  {
   "cell_type": "code",
   "execution_count": 12,
   "metadata": {},
   "outputs": [
    {
     "name": "stdout",
     "output_type": "stream",
     "text": [
      "Accuracy:  0.9333333333333333\n",
      "Precision:  0.9352007469654529\n",
      "Recall:  0.9333333333333333\n",
      "F1-Score:  0.933615520282187\n"
     ]
    }
   ],
   "source": [
    "from sklearn.naive_bayes import GaussianNB\n",
    "\n",
    "gnb = GaussianNB()\n",
    "# train the model\n",
    "gnb.fit(X_train, y_train)\n",
    "# make predictions\n",
    "gnb_pred = gnb.predict(X_test)\n",
    "# print the accuracy\n",
    "print(\"Accuracy: \",\n",
    "      accuracy_score(y_test, gnb_pred))\n",
    "# print other performance metrics\n",
    "print(\"Precision: \",\n",
    "      precision_score(y_test, gnb_pred, average='weighted'))\n",
    "print(\"Recall: \",\n",
    "      recall_score(y_test, gnb_pred, average='weighted'))\n",
    "print(\"F1-Score: \",\n",
    "      f1_score(y_test, gnb_pred, average='weighted'))"
   ]
  },
  {
   "cell_type": "markdown",
   "metadata": {},
   "source": [
    "## K-Nearest Neighbors"
   ]
  },
  {
   "cell_type": "code",
   "execution_count": 13,
   "metadata": {},
   "outputs": [
    {
     "name": "stdout",
     "output_type": "stream",
     "text": [
      "Accuracy:  0.9777777777777777\n",
      "Precision:  0.9789473684210527\n",
      "Recall:  0.9777777777777777\n",
      "F1-Score:  0.9776336336336338\n"
     ]
    }
   ],
   "source": [
    "from sklearn.neighbors import KNeighborsClassifier\n",
    "\n",
    "knn = KNeighborsClassifier()\n",
    "# train the model\n",
    "knn.fit(X_train, y_train)\n",
    "# make predictions\n",
    "knn_pred = knn.predict(X_test)\n",
    "# print the accuracy\n",
    "print(\"Accuracy: \",\n",
    "      accuracy_score(y_test, knn_pred))\n",
    "# print other performance metrics\n",
    "print(\"Precision: \",\n",
    "      precision_score(y_test, knn_pred, average='weighted'))\n",
    "print(\"Recall: \",\n",
    "      recall_score(y_test, knn_pred, average='weighted'))\n",
    "print(\"F1-Score: \",\n",
    "      f1_score(y_test, knn_pred, average='weighted'))\n"
   ]
  },
  {
   "cell_type": "markdown",
   "metadata": {},
   "source": [
    "## K-Nearest Neigbors from scratch"
   ]
  },
  {
   "cell_type": "code",
   "execution_count": 14,
   "metadata": {},
   "outputs": [
    {
     "name": "stdout",
     "output_type": "stream",
     "text": [
      "Accuracy:  0.9777777777777777\n",
      "Precision:  0.9789473684210527\n",
      "Recall:  0.9777777777777777\n",
      "F1-Score:  0.9776336336336338\n"
     ]
    }
   ],
   "source": [
    "from xalgos.k_nearest_neighbors import KNN\n",
    "\n",
    "# Create classifier\n",
    "knn = KNN(k=5, distance='euclidean')\n",
    "# train the model\n",
    "knn.fit(X_train, y_train)\n",
    "# make predictions\n",
    "knn_pred = knn.predict(X_test)\n",
    "# print the accuracy\n",
    "print(\"Accuracy: \",\n",
    "      accuracy_score(y_test, knn_pred))\n",
    "# print other performance metrics\n",
    "print(\"Precision: \",\n",
    "      precision_score(y_test, knn_pred, average='weighted'))\n",
    "print(\"Recall: \",\n",
    "      recall_score(y_test, knn_pred, average='weighted'))\n",
    "print(\"F1-Score: \",\n",
    "      f1_score(y_test, knn_pred, average='weighted'))"
   ]
  },
  {
   "cell_type": "markdown",
   "metadata": {},
   "source": [
    "## Visualize dataset"
   ]
  },
  {
   "cell_type": "code",
   "execution_count": 16,
   "metadata": {},
   "outputs": [
    {
     "name": "stderr",
     "output_type": "stream",
     "text": [
      "/var/folders/98/pgyvqp115_q7lctf5vvv65gr0000gp/T/ipykernel_1992/1552349528.py:5: UserWarning: No data for colormapping provided via 'c'. Parameters 'cmap' will be ignored\n",
      "  scatter1 = ax.scatter(X_test[y_test==0, 0], X_test[y_test==0, 1], c='b', cmap='viridis', label=iris.target_names[0])\n",
      "/var/folders/98/pgyvqp115_q7lctf5vvv65gr0000gp/T/ipykernel_1992/1552349528.py:6: UserWarning: No data for colormapping provided via 'c'. Parameters 'cmap' will be ignored\n",
      "  scatter2 = ax.scatter(X_test[y_test==1, 0], X_test[y_test==1, 1], c='g', cmap='viridis', label=iris.target_names[1])\n",
      "/var/folders/98/pgyvqp115_q7lctf5vvv65gr0000gp/T/ipykernel_1992/1552349528.py:7: UserWarning: No data for colormapping provided via 'c'. Parameters 'cmap' will be ignored\n",
      "  scatter3 = ax.scatter(X_test[y_test==2, 0], X_test[y_test==2, 1], c='r', cmap='viridis', label=iris.target_names[2])\n",
      "/var/folders/98/pgyvqp115_q7lctf5vvv65gr0000gp/T/ipykernel_1992/1552349528.py:8: UserWarning: No data for colormapping provided via 'c'. Parameters 'cmap' will be ignored\n",
      "  scatter4 = ax.scatter(X_test[:, 0], X_test[:, 1], c='k', cmap='viridis', marker='x', label='Predicted Label')\n"
     ]
    },
    {
     "data": {
      "image/png": "[encoded data removed]",
      "text/plain": [
       "<Figure size 640x480 with 1 Axes>"
      ]
     },
     "metadata": {},
     "output_type": "display_data"
    }
   ],
   "source": [
    "import matplotlib.pyplot as plt\n",
    "\n",
    "# Create scatter plots of the test data with colored points representing the true and predicted labels\n",
    "fig, ax = plt.subplots()\n",
    "scatter1 = ax.scatter(X_test[y_test==0, 0], X_test[y_test==0, 1], c='b', cmap='viridis', label=iris.target_names[0])\n",
    "scatter2 = ax.scatter(X_test[y_test==1, 0], X_test[y_test==1, 1], c='g', cmap='viridis', label=iris.target_names[1])\n",
    "scatter3 = ax.scatter(X_test[y_test==2, 0], X_test[y_test==2, 1], c='r', cmap='viridis', label=iris.target_names[2])\n",
    "scatter4 = ax.scatter(X_test[:, 0], X_test[:, 1], c='k', cmap='viridis', marker='x', label='Predicted Label')\n",
    "ax.set_xlabel('Feature 1')\n",
    "ax.set_ylabel('Feature 2')\n",
    "ax.set_title('KNN Classifier Results')\n",
    "handles = [scatter1, scatter2, scatter3, scatter4]\n",
    "labels = [h.get_label() for h in handles]\n",
    "ax.legend(handles=handles, labels=labels)\n",
    "plt.show()"
   ]
  }
 ],
 "metadata": {
  "kernelspec": {
   "display_name": "Python 3.9.7 ('base')",
   "language": "python",
   "name": "python3"
  },
  "language_info": {
   "codemirror_mode": {
    "name": "ipython",
    "version": 3
   },
   "file_extension": ".py",
   "mimetype": "text/x-python",
   "name": "python",
   "nbconvert_exporter": "python",
   "pygments_lexer": "ipython3",
   "version": "3.9.19"
  },
  "orig_nbformat": 4,
  "vscode": {
   "interpreter": {
    "hash": "3067ead486e059ec00ffe7555bdb889e6e264a24dc711bf108106cc7baee8d5d"
   }
  }
 },
 "nbformat": 4,
 "nbformat_minor": 2
}
