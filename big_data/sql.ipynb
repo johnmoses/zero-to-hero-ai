{
 "cells": [
  {
   "cell_type": "markdown",
   "metadata": {},
   "source": [
    "# Structured Query Language (SQL)"
   ]
  },
  {
   "cell_type": "code",
   "execution_count": 1,
   "metadata": {},
   "outputs": [],
   "source": [
    "import pyspark\n",
    "from pyspark.sql import SparkSession"
   ]
  },
  {
   "cell_type": "code",
   "execution_count": 2,
   "metadata": {},
   "outputs": [
    {
     "name": "stderr",
     "output_type": "stream",
     "text": [
      "Setting default log level to \"WARN\".\n",
      "To adjust logging level use sc.setLogLevel(newLevel). For SparkR, use setLogLevel(newLevel).\n",
      "25/02/21 11:50:19 WARN NativeCodeLoader: Unable to load native-hadoop library for your platform... using builtin-java classes where applicable\n"
     ]
    }
   ],
   "source": [
    "spark = SparkSession.builder.appName(\"SQL\").getOrCreate()"
   ]
  },
  {
   "cell_type": "markdown",
   "metadata": {},
   "source": [
    "Inner join"
   ]
  },
  {
   "cell_type": "code",
   "execution_count": 6,
   "metadata": {},
   "outputs": [
    {
     "name": "stdout",
     "output_type": "stream",
     "text": [
      "+--------+-----------+------+\n",
      "|order_id|customer_id|amount|\n",
      "+--------+-----------+------+\n",
      "|    1001|          1|   100|\n",
      "|    1002|          2|   200|\n",
      "|    1003|          3|   300|\n",
      "|    1004|          1|   200|\n",
      "|    1005|          6|   200|\n",
      "+--------+-----------+------+\n",
      "\n"
     ]
    }
   ],
   "source": [
    "df_left = spark.createDataFrame(\n",
    "    [(1001,1,100),(1002,2,200),(1003,3,300),(1004,1,200),(1005,6,200)],\n",
    "    [\"order_id\",\"customer_id\",\"amount\"]\n",
    "    )\n",
    "df_left.show()"
   ]
  },
  {
   "cell_type": "code",
   "execution_count": 5,
   "metadata": {},
   "outputs": [
    {
     "name": "stdout",
     "output_type": "stream",
     "text": [
      "+-----------+----+\n",
      "|customer_id|name|\n",
      "+-----------+----+\n",
      "|          1|john|\n",
      "|          2|mike|\n",
      "|          3|tony|\n",
      "|          4|kent|\n",
      "+-----------+----+\n",
      "\n"
     ]
    }
   ],
   "source": [
    "df_right = spark.createDataFrame(\n",
    "    [(1,\"john\"),(2,\"mike\"),(3,\"tony\"),(4,\"kent\")],\n",
    "    [\"customer_id\",\"name\"])\n",
    "df_right.show()"
   ]
  },
  {
   "cell_type": "code",
   "execution_count": 7,
   "metadata": {},
   "outputs": [
    {
     "name": "stdout",
     "output_type": "stream",
     "text": [
      "+-----------+--------+------+----+\n",
      "|customer_id|order_id|amount|name|\n",
      "+-----------+--------+------+----+\n",
      "|          1|    1001|   100|john|\n",
      "|          1|    1004|   200|john|\n",
      "|          2|    1002|   200|mike|\n",
      "|          3|    1003|   300|tony|\n",
      "+-----------+--------+------+----+\n",
      "\n"
     ]
    }
   ],
   "source": [
    "df_left.join(df_right,on=\"customer_id\",how=\"inner\").show()"
   ]
  },
  {
   "cell_type": "markdown",
   "metadata": {},
   "source": [
    "Left join"
   ]
  },
  {
   "cell_type": "code",
   "execution_count": 8,
   "metadata": {},
   "outputs": [
    {
     "name": "stdout",
     "output_type": "stream",
     "text": [
      "+-----------+--------+------+----+\n",
      "|customer_id|order_id|amount|name|\n",
      "+-----------+--------+------+----+\n",
      "|          1|    1001|   100|john|\n",
      "|          2|    1002|   200|mike|\n",
      "|          3|    1003|   300|tony|\n",
      "|          1|    1004|   200|john|\n",
      "|          6|    1005|   200|NULL|\n",
      "+-----------+--------+------+----+\n",
      "\n",
      "+-----------+--------+------+----+\n",
      "|customer_id|order_id|amount|name|\n",
      "+-----------+--------+------+----+\n",
      "|          1|    1001|   100|john|\n",
      "|          2|    1002|   200|mike|\n",
      "|          3|    1003|   300|tony|\n",
      "|          1|    1004|   200|john|\n",
      "|          6|    1005|   200|NULL|\n",
      "+-----------+--------+------+----+\n",
      "\n",
      "+-----------+--------+------+----+\n",
      "|customer_id|order_id|amount|name|\n",
      "+-----------+--------+------+----+\n",
      "|          1|    1001|   100|john|\n",
      "|          2|    1002|   200|mike|\n",
      "|          3|    1003|   300|tony|\n",
      "|          1|    1004|   200|john|\n",
      "|          6|    1005|   200|NULL|\n",
      "+-----------+--------+------+----+\n",
      "\n"
     ]
    }
   ],
   "source": [
    "df_left.join(df_right,on=\"customer_id\",how=\"left\").show()\n",
    "df_left.join(df_right,on=\"customer_id\",how=\"left_outer\").show()\n",
    "df_left.join(df_right,on=\"customer_id\",how=\"leftouter\").show()"
   ]
  },
  {
   "cell_type": "markdown",
   "metadata": {},
   "source": [
    "Full join"
   ]
  },
  {
   "cell_type": "code",
   "execution_count": 9,
   "metadata": {},
   "outputs": [
    {
     "name": "stdout",
     "output_type": "stream",
     "text": [
      "+-----------+--------+------+----+\n",
      "|customer_id|order_id|amount|name|\n",
      "+-----------+--------+------+----+\n",
      "|          1|    1001|   100|john|\n",
      "|          1|    1004|   200|john|\n",
      "|          2|    1002|   200|mike|\n",
      "|          3|    1003|   300|tony|\n",
      "|          4|    NULL|  NULL|kent|\n",
      "|          6|    1005|   200|NULL|\n",
      "+-----------+--------+------+----+\n",
      "\n",
      "+-----------+--------+------+----+\n",
      "|customer_id|order_id|amount|name|\n",
      "+-----------+--------+------+----+\n",
      "|          1|    1001|   100|john|\n",
      "|          1|    1004|   200|john|\n",
      "|          2|    1002|   200|mike|\n",
      "|          3|    1003|   300|tony|\n",
      "|          4|    NULL|  NULL|kent|\n",
      "|          6|    1005|   200|NULL|\n",
      "+-----------+--------+------+----+\n",
      "\n",
      "+-----------+--------+------+----+\n",
      "|customer_id|order_id|amount|name|\n",
      "+-----------+--------+------+----+\n",
      "|          1|    1001|   100|john|\n",
      "|          1|    1004|   200|john|\n",
      "|          2|    1002|   200|mike|\n",
      "|          3|    1003|   300|tony|\n",
      "|          4|    NULL|  NULL|kent|\n",
      "|          6|    1005|   200|NULL|\n",
      "+-----------+--------+------+----+\n",
      "\n"
     ]
    }
   ],
   "source": [
    "df_left.join(df_right,on=\"customer_id\",how=\"full\").show()\n",
    "df_left.join(df_right,on=\"customer_id\",how=\"fullouter\").show()\n",
    "df_left.join(df_right,on=\"customer_id\",how=\"full_outer\").show()"
   ]
  },
  {
   "cell_type": "markdown",
   "metadata": {},
   "source": [
    "Cross join"
   ]
  },
  {
   "cell_type": "code",
   "execution_count": 10,
   "metadata": {},
   "outputs": [
    {
     "name": "stdout",
     "output_type": "stream",
     "text": [
      "+--------+-----------+------+-----------+----+\n",
      "|order_id|customer_id|amount|customer_id|name|\n",
      "+--------+-----------+------+-----------+----+\n",
      "|    1001|          1|   100|          1|john|\n",
      "|    1001|          1|   100|          2|mike|\n",
      "|    1001|          1|   100|          3|tony|\n",
      "|    1001|          1|   100|          4|kent|\n",
      "|    1002|          2|   200|          1|john|\n",
      "|    1002|          2|   200|          2|mike|\n",
      "|    1002|          2|   200|          3|tony|\n",
      "|    1002|          2|   200|          4|kent|\n",
      "|    1003|          3|   300|          1|john|\n",
      "|    1003|          3|   300|          2|mike|\n",
      "|    1003|          3|   300|          3|tony|\n",
      "|    1003|          3|   300|          4|kent|\n",
      "|    1004|          1|   200|          1|john|\n",
      "|    1004|          1|   200|          2|mike|\n",
      "|    1004|          1|   200|          3|tony|\n",
      "|    1004|          1|   200|          4|kent|\n",
      "|    1005|          6|   200|          1|john|\n",
      "|    1005|          6|   200|          2|mike|\n",
      "|    1005|          6|   200|          3|tony|\n",
      "|    1005|          6|   200|          4|kent|\n",
      "+--------+-----------+------+-----------+----+\n",
      "\n"
     ]
    }
   ],
   "source": [
    "spark.conf.set(\"spark.sql.crossJoin.enabled\", \"true\")\n",
    "df_left.crossJoin(df_right).show()"
   ]
  },
  {
   "cell_type": "markdown",
   "metadata": {},
   "source": [
    "Anti join"
   ]
  },
  {
   "cell_type": "code",
   "execution_count": 11,
   "metadata": {},
   "outputs": [
    {
     "name": "stdout",
     "output_type": "stream",
     "text": [
      "+-----------+--------+------+\n",
      "|customer_id|order_id|amount|\n",
      "+-----------+--------+------+\n",
      "|          6|    1005|   200|\n",
      "+-----------+--------+------+\n",
      "\n",
      "+-----------+--------+------+\n",
      "|customer_id|order_id|amount|\n",
      "+-----------+--------+------+\n",
      "|          6|    1005|   200|\n",
      "+-----------+--------+------+\n",
      "\n",
      "+-----------+--------+------+\n",
      "|customer_id|order_id|amount|\n",
      "+-----------+--------+------+\n",
      "|          6|    1005|   200|\n",
      "+-----------+--------+------+\n",
      "\n"
     ]
    }
   ],
   "source": [
    "df_left.join(df_right,on=\"customer_id\",how=\"anti\").show()\n",
    "df_left.join(df_right,on=\"customer_id\",how=\"leftanti\").show()\n",
    "df_left.join(df_right,on=\"customer_id\",how=\"left_anti\").show()"
   ]
  }
 ],
 "metadata": {
  "kernelspec": {
   "display_name": "Python 3",
   "language": "python",
   "name": "python3"
  },
  "language_info": {
   "codemirror_mode": {
    "name": "ipython",
    "version": 3
   },
   "file_extension": ".py",
   "mimetype": "text/x-python",
   "name": "python",
   "nbconvert_exporter": "python",
   "pygments_lexer": "ipython3",
   "version": "3.9.19"
  }
 },
 "nbformat": 4,
 "nbformat_minor": 2
}
