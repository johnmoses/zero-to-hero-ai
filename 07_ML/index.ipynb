{
 "cells": [
  {
   "cell_type": "markdown",
   "metadata": {},
   "source": [
    "# Machine Learning\n",
    "\n",
    "- [Introduction](00-intro.ipynb)\n",
    "- [Classification](00-intro.ipynb)\n",
    "- [Regression](00-intro.ipynb)\n",
    "- [Decision Trees](00-intro.ipynb)\n",
    "- [Random Forests](00-intro.ipynb)"
   ]
  }
 ],
 "metadata": {
  "language_info": {
   "name": "python"
  }
 },
 "nbformat": 4,
 "nbformat_minor": 2
}
