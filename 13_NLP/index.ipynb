{
 "cells": [
  {
   "cell_type": "markdown",
   "metadata": {},
   "source": [
    "# Natural Language Processing (NLP)\n",
    "\n",
    "- [Introduction](intro.ipynb)\n",
    "- [Text Processing Pipelin](intro.ipynb)\n",
    "- [Language Modelling](intro.ipynb)\n",
    "- [Sentiment Analysis](intro.ipynb)\n",
    "- [Chatbots](intro.ipynb)"
   ]
  }
 ],
 "metadata": {
  "language_info": {
   "name": "python"
  }
 },
 "nbformat": 4,
 "nbformat_minor": 2
}
