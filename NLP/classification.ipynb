{
 "cells": [
  {
   "cell_type": "markdown",
   "metadata": {},
   "source": [
    "# Text Classification\n",
    "\n",
    "Text classification is the ability of the machine to identify patterns in words and place them in categories or clusters\n",
    "\n",
    "- Supervised classification\n",
    "- Sequence classification\n",
    "- Creating Test Sets\n",
    "- Decission Trees\n",
    "- Naive Baye's classifier\n",
    "- Other classifiers"
   ]
  },
  {
   "cell_type": "code",
   "execution_count": null,
   "metadata": {},
   "outputs": [],
   "source": []
  }
 ],
 "metadata": {
  "language_info": {
   "name": "python"
  },
  "orig_nbformat": 4
 },
 "nbformat": 4,
 "nbformat_minor": 2
}
