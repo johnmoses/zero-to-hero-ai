{
 "cells": [
  {
   "cell_type": "markdown",
   "metadata": {},
   "source": [
    "# Data"
   ]
  },
  {
   "cell_type": "code",
   "execution_count": 1,
   "metadata": {},
   "outputs": [],
   "source": [
    "%matplotlib inline\n",
    "import seaborn as sns\n",
    "import pandas as pd\n",
    "import numpy as np\n",
    "import matplotlib\n",
    "import warnings\n",
    "import sklearn\n",
    "import scipy\n",
    "import numpy\n",
    "import json\n",
    "import sys\n",
    "import csv\n",
    "import os"
   ]
  },
  {
   "cell_type": "markdown",
   "metadata": {},
   "source": [
    "Let us check the versions of the libraries here"
   ]
  },
  {
   "cell_type": "code",
   "execution_count": 2,
   "metadata": {},
   "outputs": [
    {
     "name": "stdout",
     "output_type": "stream",
     "text": [
      "matplotlib: 3.7.3\n",
      "sklearn: 1.3.2\n",
      "scipy: 1.10.1\n",
      "seaborn: 0.13.2\n",
      "pandas: 2.0.3\n",
      "numpy: 1.23.5\n",
      "Python: 3.8.19 | packaged by conda-forge | (default, Mar 20 2024, 12:50:25) \n",
      "[Clang 15.0.7 ]\n"
     ]
    }
   ],
   "source": [
    "print('matplotlib: {}'.format(matplotlib.__version__))\n",
    "print('sklearn: {}'.format(sklearn.__version__))\n",
    "print('scipy: {}'.format(scipy.__version__))\n",
    "print('seaborn: {}'.format(sns.__version__))\n",
    "print('pandas: {}'.format(pd.__version__))\n",
    "print('numpy: {}'.format(np.__version__))\n",
    "print('Python: {}'.format(sys.version))"
   ]
  },
  {
   "cell_type": "markdown",
   "metadata": {},
   "source": [
    "Configuration of visualizations"
   ]
  },
  {
   "cell_type": "markdown",
   "metadata": {},
   "source": [
    "## Data Collection\n",
    "This is the process of gathering data, information or any variables of interest for the purpose of hypothesis testing and evaluation of outcomes. Pandas can read data from many sources."
   ]
  },
  {
   "cell_type": "markdown",
   "metadata": {},
   "source": [
    "Get dataset from source"
   ]
  },
  {
   "cell_type": "code",
   "execution_count": 6,
   "metadata": {},
   "outputs": [
    {
     "name": "stderr",
     "output_type": "stream",
     "text": [
      "[*********************100%***********************]  1 of 1 completed\n"
     ]
    }
   ],
   "source": [
    "import yfinance as yf\n",
    "\n",
    "starting=\"2021-08-19\"\n",
    "ending=\"2023-11-26\"\n",
    "dataset = yf.download(\"CHPT\", starting, ending)"
   ]
  },
  {
   "cell_type": "markdown",
   "metadata": {},
   "source": [
    "Save to `.csv` file"
   ]
  },
  {
   "cell_type": "code",
   "execution_count": 7,
   "metadata": {},
   "outputs": [],
   "source": [
    "file_path = 'data_file.txt'\n",
    "dataset.to_csv(file_path, index=False)"
   ]
  },
  {
   "cell_type": "markdown",
   "metadata": {},
   "source": [
    "View first few records"
   ]
  },
  {
   "cell_type": "code",
   "execution_count": 8,
   "metadata": {},
   "outputs": [
    {
     "data": {
      "text/html": [
       "<div>\n",
       "<style scoped>\n",
       "    .dataframe tbody tr th:only-of-type {\n",
       "        vertical-align: middle;\n",
       "    }\n",
       "\n",
       "    .dataframe tbody tr th {\n",
       "        vertical-align: top;\n",
       "    }\n",
       "\n",
       "    .dataframe thead tr th {\n",
       "        text-align: left;\n",
       "    }\n",
       "\n",
       "    .dataframe thead tr:last-of-type th {\n",
       "        text-align: right;\n",
       "    }\n",
       "</style>\n",
       "<table border=\"1\" class=\"dataframe\">\n",
       "  <thead>\n",
       "    <tr>\n",
       "      <th>Price</th>\n",
       "      <th>Adj Close</th>\n",
       "      <th>Close</th>\n",
       "      <th>High</th>\n",
       "      <th>Low</th>\n",
       "      <th>Open</th>\n",
       "      <th>Volume</th>\n",
       "    </tr>\n",
       "    <tr>\n",
       "      <th>Ticker</th>\n",
       "      <th>CHPT</th>\n",
       "      <th>CHPT</th>\n",
       "      <th>CHPT</th>\n",
       "      <th>CHPT</th>\n",
       "      <th>CHPT</th>\n",
       "      <th>CHPT</th>\n",
       "    </tr>\n",
       "    <tr>\n",
       "      <th>Date</th>\n",
       "      <th></th>\n",
       "      <th></th>\n",
       "      <th></th>\n",
       "      <th></th>\n",
       "      <th></th>\n",
       "      <th></th>\n",
       "    </tr>\n",
       "  </thead>\n",
       "  <tbody>\n",
       "    <tr>\n",
       "      <th>2021-08-19 00:00:00+00:00</th>\n",
       "      <td>20.790001</td>\n",
       "      <td>20.790001</td>\n",
       "      <td>21.579000</td>\n",
       "      <td>20.74</td>\n",
       "      <td>21.500000</td>\n",
       "      <td>6455100</td>\n",
       "    </tr>\n",
       "    <tr>\n",
       "      <th>2021-08-20 00:00:00+00:00</th>\n",
       "      <td>21.260000</td>\n",
       "      <td>21.260000</td>\n",
       "      <td>21.518999</td>\n",
       "      <td>20.76</td>\n",
       "      <td>20.820000</td>\n",
       "      <td>4375600</td>\n",
       "    </tr>\n",
       "    <tr>\n",
       "      <th>2021-08-23 00:00:00+00:00</th>\n",
       "      <td>21.969999</td>\n",
       "      <td>21.969999</td>\n",
       "      <td>22.120001</td>\n",
       "      <td>21.34</td>\n",
       "      <td>21.420000</td>\n",
       "      <td>3983600</td>\n",
       "    </tr>\n",
       "    <tr>\n",
       "      <th>2021-08-24 00:00:00+00:00</th>\n",
       "      <td>22.540001</td>\n",
       "      <td>22.540001</td>\n",
       "      <td>22.600000</td>\n",
       "      <td>22.01</td>\n",
       "      <td>22.330000</td>\n",
       "      <td>4401200</td>\n",
       "    </tr>\n",
       "    <tr>\n",
       "      <th>2021-08-25 00:00:00+00:00</th>\n",
       "      <td>22.240000</td>\n",
       "      <td>22.240000</td>\n",
       "      <td>22.700001</td>\n",
       "      <td>21.82</td>\n",
       "      <td>22.700001</td>\n",
       "      <td>4904800</td>\n",
       "    </tr>\n",
       "  </tbody>\n",
       "</table>\n",
       "</div>"
      ],
      "text/plain": [
       "Price                      Adj Close      Close       High    Low       Open  \\\n",
       "Ticker                          CHPT       CHPT       CHPT   CHPT       CHPT   \n",
       "Date                                                                           \n",
       "2021-08-19 00:00:00+00:00  20.790001  20.790001  21.579000  20.74  21.500000   \n",
       "2021-08-20 00:00:00+00:00  21.260000  21.260000  21.518999  20.76  20.820000   \n",
       "2021-08-23 00:00:00+00:00  21.969999  21.969999  22.120001  21.34  21.420000   \n",
       "2021-08-24 00:00:00+00:00  22.540001  22.540001  22.600000  22.01  22.330000   \n",
       "2021-08-25 00:00:00+00:00  22.240000  22.240000  22.700001  21.82  22.700001   \n",
       "\n",
       "Price                       Volume  \n",
       "Ticker                        CHPT  \n",
       "Date                                \n",
       "2021-08-19 00:00:00+00:00  6455100  \n",
       "2021-08-20 00:00:00+00:00  4375600  \n",
       "2021-08-23 00:00:00+00:00  3983600  \n",
       "2021-08-24 00:00:00+00:00  4401200  \n",
       "2021-08-25 00:00:00+00:00  4904800  "
      ]
     },
     "execution_count": 8,
     "metadata": {},
     "output_type": "execute_result"
    }
   ],
   "source": [
    "dataset.head()"
   ]
  },
  {
   "cell_type": "code",
   "execution_count": 9,
   "metadata": {},
   "outputs": [
    {
     "name": "stdout",
     "output_type": "stream",
     "text": [
      "<class 'pandas.core.frame.DataFrame'>\n",
      "DatetimeIndex: 571 entries, 2021-08-19 00:00:00+00:00 to 2023-11-24 00:00:00+00:00\n",
      "Data columns (total 6 columns):\n",
      " #   Column             Non-Null Count  Dtype  \n",
      "---  ------             --------------  -----  \n",
      " 0   (Adj Close, CHPT)  571 non-null    float64\n",
      " 1   (Close, CHPT)      571 non-null    float64\n",
      " 2   (High, CHPT)       571 non-null    float64\n",
      " 3   (Low, CHPT)        571 non-null    float64\n",
      " 4   (Open, CHPT)       571 non-null    float64\n",
      " 5   (Volume, CHPT)     571 non-null    int64  \n",
      "dtypes: float64(5), int64(1)\n",
      "memory usage: 31.2 KB\n"
     ]
    }
   ],
   "source": [
    "dataset.info()"
   ]
  },
  {
   "cell_type": "code",
   "execution_count": 10,
   "metadata": {},
   "outputs": [
    {
     "data": {
      "text/plain": [
       "pandas.core.frame.DataFrame"
      ]
     },
     "execution_count": 10,
     "metadata": {},
     "output_type": "execute_result"
    }
   ],
   "source": [
    "type(dataset)"
   ]
  }
 ],
 "metadata": {
  "kernelspec": {
   "display_name": "Python 3.9.9 64-bit ('3.9.9')",
   "language": "python",
   "name": "python3"
  },
  "language_info": {
   "codemirror_mode": {
    "name": "ipython",
    "version": 3
   },
   "file_extension": ".py",
   "mimetype": "text/x-python",
   "name": "python",
   "nbconvert_exporter": "python",
   "pygments_lexer": "ipython3",
   "version": "3.8.19"
  },
  "orig_nbformat": 4,
  "vscode": {
   "interpreter": {
    "hash": "21aa380f16a0108e00536e3e7793513d8af019678eecf9873d21f81a20cdd033"
   }
  }
 },
 "nbformat": 4,
 "nbformat_minor": 2
}
