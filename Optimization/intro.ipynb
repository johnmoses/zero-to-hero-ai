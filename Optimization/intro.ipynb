{
 "cells": [
  {
   "cell_type": "markdown",
   "metadata": {},
   "source": [
    "# Deep Learning Optimization\n",
    "\n",
    "What is optimization and why do we need it in deep learning?\n",
    "\n",
    "Deep learning models are neural networks comprising hundreds of interconnected layers, each containing thousands of neurons. The connections between neurons are weighted, with each weight showing the strength or level of influence between neurons. This arrangement places intensive computational demands on the system.\n",
    "\n",
    "Model optimization techniques come to the rescure here to reduce computational load and memory usage while preserving (or even enhancing) the model’s task performance\n",
    "\n",
    "## Optimization Techniques\n",
    "\n",
    "Popular ones include:\n",
    "\n",
    "1. Hyperparameter tunning Optimization\n",
    "2. Hardware Optimization\n",
    "3. Algorithmic Optimization\n",
    "4. Quantization\n",
    "5. Pruning\n",
    "6. Distillation"
   ]
  },
  {
   "cell_type": "markdown",
   "metadata": {},
   "source": [
    "## Hyperparameter Optimization"
   ]
  }
 ],
 "metadata": {
  "kernelspec": {
   "display_name": "Python 3.9.9 64-bit ('3.9.9')",
   "language": "python",
   "name": "python3"
  },
  "language_info": {
   "name": "python",
   "version": "3.9.9"
  },
  "orig_nbformat": 4,
  "vscode": {
   "interpreter": {
    "hash": "21aa380f16a0108e00536e3e7793513d8af019678eecf9873d21f81a20cdd033"
   }
  }
 },
 "nbformat": 4,
 "nbformat_minor": 2
}
