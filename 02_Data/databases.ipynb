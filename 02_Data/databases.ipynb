{
 "cells": [
  {
   "cell_type": "markdown",
   "source": [
    "# Using Databases"
   ],
   "metadata": {}
  },
  {
   "cell_type": "code",
   "execution_count": 1,
   "source": [
    "from typing import Tuple, Sequence, List, Any, Callable, Dict, Iterator\n",
    "from collections import  defaultdict\n",
    "\n",
    "users = [\n",
    "    [0, \"Hero\", 0],\n",
    "    [1, \"Dunn\", 2], \n",
    "    [2, \"Sue\", 3], \n",
    "    [3, \"Chi\", 3]\n",
    "]"
   ],
   "outputs": [],
   "metadata": {}
  },
  {
   "cell_type": "code",
   "execution_count": 8,
   "source": [
    "Row = Dict[str, Any]\n",
    "WhereClause = Callable[[Row], bool]\n",
    "HavingClause = Callable[[List[Row]], bool]\n",
    "\n",
    "class Table:\n",
    "    def __init__(self, columns: List[str], types: List[type]) -> None:\n",
    "        assert len(columns) == len(types), \"# of columns must == # of types\"\n",
    "\n",
    "        self.columns = columns\n",
    "        self.types = types\n",
    "        self.rows: List[Row] = []\n",
    "\n",
    "    def col2type(self, col: str) -> type:\n",
    "        idx = self.columns.index(col)\n",
    "        return self.types[idx]\n",
    "\n",
    "    def insert(self, values: list) -> None:\n",
    "        # Check for right no of values\n",
    "        if len(values) != len(self.types):\n",
    "            raise ValueError(f\"You need to provide {len(self.types)} values\")\n",
    "\n",
    "        # Check for right types of values\n",
    "        for value, typ3 in zip(values, self.types):\n",
    "            if not isinstance(value, typ3) and value is not None:\n",
    "                raise TypeError(f\"Expected type {typ3} but got {value}\")\n",
    "\n",
    "        # Add the corresponding dict as a \"row\"\n",
    "        self.rows.append(dict(zip(self.columns, values)))"
   ],
   "outputs": [],
   "metadata": {}
  }
 ],
 "metadata": {
  "orig_nbformat": 4,
  "language_info": {
   "name": "python",
   "version": "3.8.8",
   "mimetype": "text/x-python",
   "codemirror_mode": {
    "name": "ipython",
    "version": 3
   },
   "pygments_lexer": "ipython3",
   "nbconvert_exporter": "python",
   "file_extension": ".py"
  },
  "kernelspec": {
   "name": "python3",
   "display_name": "Python 3.8.8 64-bit ('base': conda)"
  },
  "interpreter": {
   "hash": "e134e05457d34029b6460cd73bbf1ed73f339b5b6d98c95be70b69eba114fe95"
  }
 },
 "nbformat": 4,
 "nbformat_minor": 2
}