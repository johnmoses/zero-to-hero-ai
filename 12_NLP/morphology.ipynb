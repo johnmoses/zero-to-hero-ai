{
 "cells": [
  {
   "cell_type": "markdown",
   "metadata": {},
   "source": [
    "# Morphology\n",
    "\n",
    "Morphology is the study of the composition of words using morphenes. It explores how tokens are produced during computations.\n",
    "\n",
    "- Introduction\n",
    "- Understanding Stemmers and Lemmatizers\n",
    "- Search Engines"
   ]
  },
  {
   "cell_type": "markdown",
   "metadata": {},
   "source": [
    "## Introduction\n",
    "\n",
    "A morphene is the basic unit of a language that carries meaning. There are two types namely: stems and affixes. A stem is also called free morphene because they can exist without the affixes. An affix for example, suffixes, prefixes, infixes and circumfixes, are called bound morphenes as they cannot exist freely by themselves except they are bound to stems."
   ]
  },
  {
   "cell_type": "markdown",
   "metadata": {},
   "source": [
    "## Understanding Stemmers and Lemmatizers\n",
    "\n",
    "Stemming is the process of obtaining a stem by eliminating the affixes from a word"
   ]
  },
  {
   "cell_type": "code",
   "execution_count": 9,
   "metadata": {},
   "outputs": [
    {
     "name": "stdout",
     "output_type": "stream",
     "text": [
      "work\n",
      "happi\n",
      "work\n",
      "happy\n",
      "working\n",
      "happiness\n",
      "pairing\n"
     ]
    }
   ],
   "source": [
    "import nltk\n",
    "from nltk.stem import PorterStemmer, LancasterStemmer, RegexpStemmer\n",
    "\n",
    "stemmerporter = PorterStemmer()\n",
    "stemmerlan = LancasterStemmer()\n",
    "stemmerregexp = RegexpStemmer('img')\n",
    "\n",
    "# Using PorterStemmer\n",
    "print(stemmerporter.stem('working'))\n",
    "print(stemmerporter.stem('happiness'))\n",
    "\n",
    "# Using LancasterStemmer\n",
    "print(stemmerlan.stem('working'))\n",
    "print(stemmerlan.stem('happiness'))\n",
    "\n",
    "# Using RegexpStemmer\n",
    "print(stemmerregexp.stem('working'))\n",
    "print(stemmerregexp.stem('happiness'))\n",
    "print(stemmerregexp.stem('pairing'))"
   ]
  },
  {
   "cell_type": "markdown",
   "metadata": {},
   "source": [
    "## Search Engines"
   ]
  },
  {
   "cell_type": "code",
   "execution_count": null,
   "metadata": {},
   "outputs": [],
   "source": []
  }
 ],
 "metadata": {
  "kernelspec": {
   "display_name": "Python 3.9.13 ('tf')",
   "language": "python",
   "name": "python3"
  },
  "language_info": {
   "codemirror_mode": {
    "name": "ipython",
    "version": 3
   },
   "file_extension": ".py",
   "mimetype": "text/x-python",
   "name": "python",
   "nbconvert_exporter": "python",
   "pygments_lexer": "ipython3",
   "version": "3.9.13"
  },
  "orig_nbformat": 4,
  "vscode": {
   "interpreter": {
    "hash": "dbc0770ecd30f98561162093fd8abab0709c5060f2f81711c403a4cebee6fe13"
   }
  }
 },
 "nbformat": 4,
 "nbformat_minor": 2
}
