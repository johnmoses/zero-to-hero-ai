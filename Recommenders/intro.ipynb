{
 "cells": [
  {
   "cell_type": "markdown",
   "metadata": {},
   "source": [
    "# Recommendation Systems"
   ]
  },
  {
   "cell_type": "markdown",
   "metadata": {},
   "source": [
    "Recommender systems are widely used daily especially in areas such as online shopping, music/movie services, mobile application stores, online advertising and many others.\n",
    "\n",
    "It is aimed at assisting users to find relevant items to acquire based on their preferences or suggest to friends and others."
   ]
  },
  {
   "cell_type": "markdown",
   "metadata": {},
   "source": [
    "## Major types of Recommendation Systems\n",
    "\n",
    "Collaborative Filtering: This automatically filters or predicts interest of a user by collecting preferences or taste information from many users in a collaboration style. This uses the wisdom of the crowd approach.\n",
    "\n",
    "Content-based Filtering: This uses information about the description and attributes of the items a user previously bought or liked or is presently showing interest, to recomend to other users.\n",
    "\n",
    "Hybrid method: This method combines the first two methods to achieve fantastic results."
   ]
  },
  {
   "cell_type": "markdown",
   "metadata": {},
   "source": [
    "## User cold-start problem\n",
    "\n",
    "In building a recommendation system, there is this challenge of providing personalized recommendations for users with none or few number of consumed items. This is solved by means of clustering mechanisms."
   ]
  },
  {
   "cell_type": "code",
   "execution_count": null,
   "metadata": {},
   "outputs": [],
   "source": []
  }
 ],
 "metadata": {
  "kernelspec": {
   "display_name": "Python 3.9.9 64-bit ('3.9.9')",
   "language": "python",
   "name": "python3"
  },
  "language_info": {
   "name": "python",
   "version": "3.9.9"
  },
  "orig_nbformat": 4,
  "vscode": {
   "interpreter": {
    "hash": "21aa380f16a0108e00536e3e7793513d8af019678eecf9873d21f81a20cdd033"
   }
  }
 },
 "nbformat": 4,
 "nbformat_minor": 2
}
